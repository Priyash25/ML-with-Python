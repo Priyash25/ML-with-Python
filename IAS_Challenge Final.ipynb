{
 "cells": [
  {
   "cell_type": "markdown",
   "metadata": {},
   "source": [
    "## Importing Libraries"
   ]
  },
  {
   "cell_type": "code",
   "execution_count": 1,
   "metadata": {},
   "outputs": [],
   "source": [
    "import pandas as pd\n",
    "import numpy as np\n",
    "import seaborn as sns\n",
    "import matplotlib.pyplot as plt\n",
    "import datetime as dt\n",
    "from sklearn.preprocessing import LabelEncoder\n",
    "import missingno as msno\n",
    "from textblob import TextBlob\n",
    "\n",
    "from sklearn.model_selection import cross_val_score\n",
    "\n",
    "from pylab import rcParams\n",
    "\n",
    "rcParams['figure.figsize'] = 18,8"
   ]
  },
  {
   "cell_type": "markdown",
   "metadata": {},
   "source": [
    "## Reading the datasets"
   ]
  },
  {
   "cell_type": "code",
   "execution_count": 2,
   "metadata": {},
   "outputs": [
    {
     "name": "stdout",
     "output_type": "stream",
     "text": [
      "(8468, 19)\n",
      "(8467, 17)\n"
     ]
    }
   ],
   "source": [
    "df_budget = pd.read_excel('IAC4-dataDescription.xlsx',sheet_name='budget.tsv')\n",
    "df_gross_budget = pd.read_excel('IAC4-dataDescription.xlsx',sheet_name='budget_gross.tsv')\n",
    "\n",
    "print(df_budget.shape)\n",
    "print(df_gross_budget.shape)"
   ]
  },
  {
   "cell_type": "markdown",
   "metadata": {},
   "source": [
    "### Merging the Movies Datasets"
   ]
  },
  {
   "cell_type": "code",
   "execution_count": 3,
   "metadata": {},
   "outputs": [
    {
     "data": {
      "text/plain": [
       "(8468, 35)"
      ]
     },
     "execution_count": 3,
     "metadata": {},
     "output_type": "execute_result"
    }
   ],
   "source": [
    "df_movies=pd.merge(df_budget,df_gross_budget,on='movie_id',how='left')\n",
    "df_movies.shape"
   ]
  },
  {
   "cell_type": "code",
   "execution_count": 4,
   "metadata": {},
   "outputs": [
    {
     "data": {
      "text/plain": [
       "Index(['movie_id', 'title', 'plot', 'movie_rating', 'movie_rating.1',\n",
       "       'metacritic', 'dvd_release', 'production', 'actors', 'movie_votes',\n",
       "       'poster', 'director', 'release_date', 'runtime', 'genre', 'awards',\n",
       "       'keywords', 'Budget_x', 'Box Office Gross', 'Budget_y', 'Gross',\n",
       "       'Unnamed: 3', 'Unnamed: 4', 'Unnamed: 5', 'Unnamed: 6', 'Unnamed: 7',\n",
       "       'Unnamed: 8', 'Unnamed: 9', 'Unnamed: 10', 'Unnamed: 11', 'Unnamed: 12',\n",
       "       'Unnamed: 13', 'Unnamed: 14', 'Unnamed: 15', 'Unnamed: 16'],\n",
       "      dtype='object')"
      ]
     },
     "execution_count": 4,
     "metadata": {},
     "output_type": "execute_result"
    }
   ],
   "source": [
    "df_movies.columns"
   ]
  },
  {
   "cell_type": "code",
   "execution_count": 5,
   "metadata": {},
   "outputs": [
    {
     "name": "stdout",
     "output_type": "stream",
     "text": [
      "<class 'pandas.core.frame.DataFrame'>\n",
      "Int64Index: 8468 entries, 0 to 8467\n",
      "Data columns (total 20 columns):\n",
      "movie_id            8468 non-null object\n",
      "title               8468 non-null object\n",
      "plot                8196 non-null object\n",
      "movie_rating        5252 non-null object\n",
      "movie_rating.1      7735 non-null float64\n",
      "metacritic          5079 non-null float64\n",
      "dvd_release         5335 non-null datetime64[ns]\n",
      "production          6758 non-null object\n",
      "actors              8153 non-null object\n",
      "movie_votes         7735 non-null float64\n",
      "poster              7967 non-null object\n",
      "director            8390 non-null object\n",
      "release_date        8283 non-null datetime64[ns]\n",
      "runtime             7846 non-null object\n",
      "genre               8424 non-null object\n",
      "awards              5242 non-null object\n",
      "keywords            6381 non-null object\n",
      "Budget_x            8468 non-null object\n",
      "Box Office Gross    8468 non-null object\n",
      "Gross               2883 non-null object\n",
      "dtypes: datetime64[ns](2), float64(3), object(15)\n",
      "memory usage: 1.4+ MB\n"
     ]
    }
   ],
   "source": [
    "df_movies=df_movies.drop(columns=['Unnamed: 3', 'Unnamed: 4', 'Unnamed: 5', 'Unnamed: 6', 'Unnamed: 7',\n",
    "       'Unnamed: 8', 'Unnamed: 9', 'Unnamed: 10', 'Unnamed: 11', 'Unnamed: 12',\n",
    "       'Unnamed: 13', 'Unnamed: 14', 'Unnamed: 15', 'Unnamed: 16','Budget_y'])\n",
    "df_movies.info()"
   ]
  },
  {
   "cell_type": "markdown",
   "metadata": {},
   "source": [
    "### Renaming movie_rating.1 to rating_score"
   ]
  },
  {
   "cell_type": "code",
   "execution_count": 6,
   "metadata": {},
   "outputs": [
    {
     "data": {
      "text/plain": [
       "Index(['movie_id', 'title', 'plot', 'movie_rating', 'rating_score',\n",
       "       'metacritic', 'dvd_release', 'production', 'actors', 'movie_votes',\n",
       "       'poster', 'director', 'release_date', 'runtime', 'genre', 'awards',\n",
       "       'keywords', 'Budget_x', 'Box Office Gross', 'Gross'],\n",
       "      dtype='object')"
      ]
     },
     "execution_count": 6,
     "metadata": {},
     "output_type": "execute_result"
    }
   ],
   "source": [
    "df_movies.rename(columns={'movie_rating.1':'rating_score'},inplace=True)\n",
    "df_movies.columns"
   ]
  },
  {
   "cell_type": "markdown",
   "metadata": {},
   "source": [
    "### Creating Feature - Sentiments from Plot"
   ]
  },
  {
   "cell_type": "code",
   "execution_count": 7,
   "metadata": {},
   "outputs": [],
   "source": [
    "x=[]\n",
    "\n",
    "for sentence in df_movies['plot']:\n",
    "    blob = TextBlob(str(sentence))\n",
    "    if blob.sentiment.polarity==' ':\n",
    "        x.append(0)\n",
    "    else:\n",
    "        x.append(blob.sentiment.polarity)"
   ]
  },
  {
   "cell_type": "code",
   "execution_count": 8,
   "metadata": {},
   "outputs": [],
   "source": [
    "df_movies['Plot Sentiment']=x"
   ]
  },
  {
   "cell_type": "markdown",
   "metadata": {},
   "source": [
    "### Creating Feature - Poster (0/1)"
   ]
  },
  {
   "cell_type": "code",
   "execution_count": 9,
   "metadata": {},
   "outputs": [],
   "source": [
    "df_movies['poster'].fillna(0,inplace=True)\n",
    "df_movies['poster']=df_movies['poster'].map(lambda x: 1 if x!=0 else x)"
   ]
  },
  {
   "cell_type": "markdown",
   "metadata": {},
   "source": [
    "### Creating Feature - From Awards\n",
    "\n",
    "### Oscar Wins\n",
    "### Oscar Nominations\n",
    "### Normal Nominations\n",
    "### Normal Wins\n",
    "### GoldenGlobe Nominations\n",
    "### GoldenGlobe Wins"
   ]
  },
  {
   "cell_type": "code",
   "execution_count": 10,
   "metadata": {},
   "outputs": [],
   "source": [
    "oscar_wins=[]\n",
    "oscar_nominations=[]\n",
    "normal_nominations=[]\n",
    "normal_wins=[]\n",
    "goldenglobe_nominations=[]\n",
    "goldenglobe_wins=[]\n",
    "\n",
    "\n",
    "for i in df_movies['awards']:\n",
    "    str(i).strip()\n",
    "    if str(i).find('wins')>-1:   \n",
    "        if not i[str(i).find('wins')-4:str(i).find('wins')]:\n",
    "            normal_wins.append(i[0:str(i).find('wins')])\n",
    "        else:\n",
    "            normal_wins.append(i[str(i).find('wins')-4:str(i).find('wins')])\n",
    "    elif str(i).find('win.')>-1 :\n",
    "        normal_wins.append(i[str(i).find('win.')-2:str(i).find('win.')])\n",
    "    elif str(i).find('win')>-1 :\n",
    "        normal_wins.append(i[str(i).find('win')-2:str(i).find('win')])\n",
    "    else:\n",
    "        normal_wins.append(0)\n",
    "        \n",
    "        \n",
    "for i in df_movies['awards']:\n",
    "    str(i).strip()\n",
    "    if str(i).find('nominations')>-1:\n",
    "        if not i[str(i).find('nominations')-3:str(i).find('nominations')]:\n",
    "            normal_nominations.append(i[0:str(i).find('nominations')])\n",
    "        else:\n",
    "            normal_nominations.append(i[str(i).find('nominations')-4:str(i).find('nominations')])\n",
    "    \n",
    "    elif str(i).find('nomination.')>-1:\n",
    "        \n",
    "        if not i[str(i).find('nomination.')-4:str(i).find('nomination.')]:\n",
    "            normal_nominations.append(i[0:str(i).find('nomination.')])\n",
    "        else:    \n",
    "            normal_nominations.append(i[str(i).find('nomination.')-4:str(i).find('nomination.')])\n",
    "    else:\n",
    "        normal_nominations.append(0)\n",
    "\n",
    "        \n",
    "\n",
    "for i in df_movies['awards']:\n",
    "\n",
    "    str(i).strip()\n",
    "    if str(i).find('Oscar')>-1:\n",
    "        \n",
    "        if str(i).find('Nominated')>-1:\n",
    "            oscar_nominations.append(i[str(i).find('Oscar')-3:str(i).find('Oscar')])\n",
    "        else:\n",
    "            oscar_nominations.append(0)\n",
    "    else:\n",
    "        oscar_nominations.append(0)\n",
    "        \n",
    "for i in df_movies['awards']:\n",
    "    #print(i)\n",
    "    str(i).strip()\n",
    "    if str(i).find('Oscar')>-1:\n",
    "        if str(i).find('Won')>-1:\n",
    "            oscar_wins.append(i[str(i).find('Oscar')-3:str(i).find('Oscar')])\n",
    "        else:\n",
    "            oscar_wins.append(0)\n",
    "    else:\n",
    "        oscar_wins.append(0)\n",
    "        \n",
    "for i in df_movies['awards']:\n",
    "    str(i).strip()\n",
    "    if str(i).find('Golden Globe')>-1:\n",
    "        if str(i).find('Won')>-1:\n",
    "            goldenglobe_wins.append(i[str(i).find('Golden Globe')-3:str(i).find('Golden Globe')])\n",
    "        else:\n",
    "            goldenglobe_wins.append(0)\n",
    "            \n",
    "    elif str(i).find('Golden Globes')>-1:\n",
    "        if str(i).find('Won')>-1:\n",
    "            goldenglobe_wins.append(i[str(i).find('Golden Globes')-3:str(i).find('Golden Globes')])\n",
    "        else: \n",
    "            goldenglobe_wins.append(0)\n",
    "    else:\n",
    "        goldenglobe_wins.append(0)\n",
    "    \n",
    "    \n",
    "for i in df_movies['awards']:\n",
    "    str(i).strip()\n",
    "    if str(i).find('Golden Globe')>-1:\n",
    "        if str(i).find('Nominated')>-1:\n",
    "            goldenglobe_nominations.append(i[str(i).find('Golden Globe')-3:str(i).find('Golden Globe')])\n",
    "        else: \n",
    "            goldenglobe_nominations.append(0)\n",
    "            \n",
    "    elif str(i).find('Golden Globes')>-1:\n",
    "        if str(i).find('Nominated')>-1:\n",
    "            goldenglobe_nominations.append(i[str(i).find('Golden Globes')-3:str(i).find('Golden Globes')])\n",
    "        else: \n",
    "            goldenglobe_nominations.append(0)\n",
    "    else:\n",
    "        goldenglobe_nominations.append(0)\n",
    "        \n",
    "        \n",
    "df_movies['Oscar_Won']=oscar_wins\n",
    "df_movies['Oscar_Nominations']=oscar_nominations\n",
    "df_movies['Normal_Wins']=normal_wins\n",
    "df_movies['Normal_Nominations']=normal_nominations\n",
    "df_movies['GoldenGlobe_Nominations']= goldenglobe_nominations\n",
    "df_movies['GoldenGlobe_Wins']=goldenglobe_wins"
   ]
  },
  {
   "cell_type": "markdown",
   "metadata": {},
   "source": [
    "### Pre-processing and imputing the features created from Awards"
   ]
  },
  {
   "cell_type": "code",
   "execution_count": 11,
   "metadata": {},
   "outputs": [],
   "source": [
    "df_movies['Normal_Nominations']=df_movies['Normal_Nominations'].map(lambda x: str(x).strip())\n",
    "df_movies['Normal_Nominations']=df_movies['Normal_Nominations'].map(lambda x: str(x)[1:] if str(x).startswith('&') else x)\n",
    "df_movies['Normal_Nominations']=df_movies['Normal_Nominations'].map(lambda x: str(x)[1:] if str(x).startswith('r') else x)\n",
    "\n",
    "df_movies['Normal_Wins']=df_movies['Normal_Wins'].map(lambda x: str(x).strip())\n",
    "df_movies['Normal_Wins']=df_movies['Normal_Wins'].map(lambda x: str(x)[1:] if str(x).startswith('r') else x)\n",
    "\n",
    "df_movies['Oscar_Won']=pd.to_numeric(df_movies['Oscar_Won'])\n",
    "df_movies['Oscar_Nominations']=pd.to_numeric(df_movies['Oscar_Nominations'])\n",
    "df_movies['Normal_Wins']=pd.to_numeric(df_movies['Normal_Wins'])\n",
    "df_movies['Normal_Nominations']=pd.to_numeric(df_movies['Normal_Nominations'])\n",
    "df_movies['GoldenGlobe_Nominations']= pd.to_numeric(df_movies['GoldenGlobe_Nominations'])\n",
    "df_movies['GoldenGlobe_Wins']=pd.to_numeric(df_movies['GoldenGlobe_Wins'])"
   ]
  },
  {
   "cell_type": "markdown",
   "metadata": {},
   "source": [
    "### Creating Feature - Earning Days"
   ]
  },
  {
   "cell_type": "code",
   "execution_count": 12,
   "metadata": {},
   "outputs": [],
   "source": [
    "if df_movies['dvd_release'] is None:\n",
    "    df_movies['Earning Days']=(dt.datetime.now()-df_movies['release_date']).dt.days\n",
    "else:   \n",
    "    df_movies['Earning Days']=(df_movies['dvd_release']-df_movies['release_date']).dt.days"
   ]
  },
  {
   "cell_type": "markdown",
   "metadata": {},
   "source": [
    "### Creating Features - Release Year, Release Month and Release DayOf Week"
   ]
  },
  {
   "cell_type": "code",
   "execution_count": 13,
   "metadata": {},
   "outputs": [
    {
     "name": "stdout",
     "output_type": "stream",
     "text": [
      "<class 'pandas.core.frame.DataFrame'>\n",
      "Int64Index: 8468 entries, 0 to 8467\n",
      "Data columns (total 31 columns):\n",
      "movie_id                   8468 non-null object\n",
      "title                      8468 non-null object\n",
      "plot                       8196 non-null object\n",
      "movie_rating               5252 non-null object\n",
      "rating_score               7735 non-null float64\n",
      "metacritic                 5079 non-null float64\n",
      "dvd_release                5335 non-null datetime64[ns]\n",
      "production                 6758 non-null object\n",
      "actors                     8153 non-null object\n",
      "movie_votes                7735 non-null float64\n",
      "poster                     8468 non-null int64\n",
      "director                   8390 non-null object\n",
      "release_date               8283 non-null datetime64[ns]\n",
      "runtime                    7846 non-null object\n",
      "genre                      8424 non-null object\n",
      "awards                     5242 non-null object\n",
      "keywords                   6381 non-null object\n",
      "Budget_x                   8468 non-null object\n",
      "Box Office Gross           8468 non-null object\n",
      "Gross                      2883 non-null object\n",
      "Plot Sentiment             8468 non-null float64\n",
      "Oscar_Won                  8468 non-null int64\n",
      "Oscar_Nominations          8468 non-null int64\n",
      "Normal_Wins                8468 non-null int64\n",
      "Normal_Nominations         8434 non-null float64\n",
      "GoldenGlobe_Nominations    8468 non-null int64\n",
      "GoldenGlobe_Wins           8468 non-null int64\n",
      "Earning Days               5313 non-null float64\n",
      "Release Day Of Week        8283 non-null float64\n",
      "Release Month              8283 non-null float64\n",
      "Release Year               8283 non-null float64\n",
      "dtypes: datetime64[ns](2), float64(9), int64(6), object(14)\n",
      "memory usage: 2.1+ MB\n"
     ]
    }
   ],
   "source": [
    "df_movies['Release Day Of Week']=df_movies['release_date'].dt.dayofweek\n",
    "df_movies['Release Month'] = df_movies['release_date'].dt.month\n",
    "df_movies['Release Year'] = df_movies['release_date'].dt.year\n",
    "df_movies.info()"
   ]
  },
  {
   "cell_type": "markdown",
   "metadata": {},
   "source": [
    "### Creating Feature - Same Day Movies"
   ]
  },
  {
   "cell_type": "code",
   "execution_count": 14,
   "metadata": {},
   "outputs": [],
   "source": [
    "df_movies['release_date']=df_movies['release_date'].astype('str')\n",
    "df_movies['release_date'].replace('NaT','Not Given',inplace=True)\n",
    "\n",
    "m=[]\n",
    "\n",
    "for i in list(df_movies['release_date']):\n",
    "    m.append(list(df_movies['release_date']).count(i))"
   ]
  },
  {
   "cell_type": "code",
   "execution_count": 15,
   "metadata": {},
   "outputs": [],
   "source": [
    "df_movies['Same Day Movies']=m"
   ]
  },
  {
   "cell_type": "markdown",
   "metadata": {},
   "source": [
    "### Creating new features for :-\n",
    "\n",
    "### Different Actors\n",
    "### Different Directors\n",
    "### Genres - Primary, Secondary, Tertiary"
   ]
  },
  {
   "cell_type": "code",
   "execution_count": 16,
   "metadata": {},
   "outputs": [
    {
     "data": {
      "text/html": [
       "<div>\n",
       "<style scoped>\n",
       "    .dataframe tbody tr th:only-of-type {\n",
       "        vertical-align: middle;\n",
       "    }\n",
       "\n",
       "    .dataframe tbody tr th {\n",
       "        vertical-align: top;\n",
       "    }\n",
       "\n",
       "    .dataframe thead th {\n",
       "        text-align: right;\n",
       "    }\n",
       "</style>\n",
       "<table border=\"1\" class=\"dataframe\">\n",
       "  <thead>\n",
       "    <tr style=\"text-align: right;\">\n",
       "      <th></th>\n",
       "      <th>movie_id</th>\n",
       "      <th>title</th>\n",
       "      <th>plot</th>\n",
       "      <th>movie_rating</th>\n",
       "      <th>rating_score</th>\n",
       "      <th>metacritic</th>\n",
       "      <th>dvd_release</th>\n",
       "      <th>production</th>\n",
       "      <th>actors</th>\n",
       "      <th>movie_votes</th>\n",
       "      <th>...</th>\n",
       "      <th>Release Year</th>\n",
       "      <th>Same Day Movies</th>\n",
       "      <th>Actor1</th>\n",
       "      <th>Actor2</th>\n",
       "      <th>Actor3</th>\n",
       "      <th>Actor4</th>\n",
       "      <th>Primary Genre</th>\n",
       "      <th>Secondary Genre</th>\n",
       "      <th>Tertiary Genre</th>\n",
       "      <th>Director</th>\n",
       "    </tr>\n",
       "  </thead>\n",
       "  <tbody>\n",
       "    <tr>\n",
       "      <th>0</th>\n",
       "      <td>tt0010323</td>\n",
       "      <td>The Cabinet of Dr. Caligari</td>\n",
       "      <td>Hypnotist Dr. Caligari uses a somnambulist, Ce...</td>\n",
       "      <td>UNRATED</td>\n",
       "      <td>8.1</td>\n",
       "      <td>NaN</td>\n",
       "      <td>1997-10-15</td>\n",
       "      <td>Rialto Pictures</td>\n",
       "      <td>Werner Krauss, Conrad Veidt, Friedrich Feher, ...</td>\n",
       "      <td>42583.0</td>\n",
       "      <td>...</td>\n",
       "      <td>1921.0</td>\n",
       "      <td>1</td>\n",
       "      <td>Werner Krauss</td>\n",
       "      <td>Conrad Veidt</td>\n",
       "      <td>Friedrich Feher</td>\n",
       "      <td>Lil Dagover</td>\n",
       "      <td>Fantasy</td>\n",
       "      <td>Horror</td>\n",
       "      <td>Mystery</td>\n",
       "      <td>Robert Wiene</td>\n",
       "    </tr>\n",
       "    <tr>\n",
       "      <th>1</th>\n",
       "      <td>tt0052893</td>\n",
       "      <td>Hiroshima Mon Amour</td>\n",
       "      <td>A French actress filming an anti-war film in H...</td>\n",
       "      <td>NOT RATED</td>\n",
       "      <td>8.0</td>\n",
       "      <td>NaN</td>\n",
       "      <td>2003-06-24</td>\n",
       "      <td>Rialto Pictures</td>\n",
       "      <td>Emmanuelle Riva, Eiji Okada, Stella Dassas, Pi...</td>\n",
       "      <td>21154.0</td>\n",
       "      <td>...</td>\n",
       "      <td>1960.0</td>\n",
       "      <td>1</td>\n",
       "      <td>Emmanuelle Riva</td>\n",
       "      <td>Eiji Okada</td>\n",
       "      <td>Stella Dassas</td>\n",
       "      <td>Pierre Barbaud</td>\n",
       "      <td>Drama</td>\n",
       "      <td>Romance</td>\n",
       "      <td>None</td>\n",
       "      <td>Alain Resnais</td>\n",
       "    </tr>\n",
       "    <tr>\n",
       "      <th>2</th>\n",
       "      <td>tt0058898</td>\n",
       "      <td>Alphaville</td>\n",
       "      <td>A U.S. secret agent is sent to the distant spa...</td>\n",
       "      <td>NOT RATED</td>\n",
       "      <td>7.2</td>\n",
       "      <td>NaN</td>\n",
       "      <td>1998-10-20</td>\n",
       "      <td>Rialto Pictures</td>\n",
       "      <td>Eddie Constantine, Anna Karina, Akim Tamiroff</td>\n",
       "      <td>17801.0</td>\n",
       "      <td>...</td>\n",
       "      <td>1965.0</td>\n",
       "      <td>1</td>\n",
       "      <td>Eddie Constantine</td>\n",
       "      <td>Anna Karina</td>\n",
       "      <td>Akim Tamiroff</td>\n",
       "      <td>None</td>\n",
       "      <td>Drama</td>\n",
       "      <td>Mystery</td>\n",
       "      <td>Sci-Fi</td>\n",
       "      <td>Jean-Luc Godard</td>\n",
       "    </tr>\n",
       "    <tr>\n",
       "      <th>3</th>\n",
       "      <td>tt0074252</td>\n",
       "      <td>Ugly, Dirty and Bad</td>\n",
       "      <td>Four generations of a family live crowded toge...</td>\n",
       "      <td>NaN</td>\n",
       "      <td>7.9</td>\n",
       "      <td>NaN</td>\n",
       "      <td>2016-11-01</td>\n",
       "      <td>Compagnia Cinematografica Champion</td>\n",
       "      <td>Nino Manfredi, Maria Luisa Santella, Francesco...</td>\n",
       "      <td>5705.0</td>\n",
       "      <td>...</td>\n",
       "      <td>1976.0</td>\n",
       "      <td>1</td>\n",
       "      <td>Nino Manfredi</td>\n",
       "      <td>Maria Luisa Santella</td>\n",
       "      <td>Francesco Anniballi</td>\n",
       "      <td>Maria Bosco</td>\n",
       "      <td>Comedy</td>\n",
       "      <td>Drama</td>\n",
       "      <td>None</td>\n",
       "      <td>Ettore Scola</td>\n",
       "    </tr>\n",
       "    <tr>\n",
       "      <th>4</th>\n",
       "      <td>tt0084269</td>\n",
       "      <td>Losing Ground</td>\n",
       "      <td>A comedy-drama about a Black American female p...</td>\n",
       "      <td>NaN</td>\n",
       "      <td>6.3</td>\n",
       "      <td>NaN</td>\n",
       "      <td>NaT</td>\n",
       "      <td>Milestone Film &amp; Video</td>\n",
       "      <td>Billie Allen, Gary Bolling, Clarence Branch Jr...</td>\n",
       "      <td>132.0</td>\n",
       "      <td>...</td>\n",
       "      <td>1982.0</td>\n",
       "      <td>1</td>\n",
       "      <td>Billie Allen</td>\n",
       "      <td>Gary Bolling</td>\n",
       "      <td>Clarence Branch Jr.</td>\n",
       "      <td>Joe Garcia</td>\n",
       "      <td>Comedy</td>\n",
       "      <td>Drama</td>\n",
       "      <td>None</td>\n",
       "      <td>Kathleen Collins</td>\n",
       "    </tr>\n",
       "  </tbody>\n",
       "</table>\n",
       "<p>5 rows × 40 columns</p>\n",
       "</div>"
      ],
      "text/plain": [
       "    movie_id                        title  \\\n",
       "0  tt0010323  The Cabinet of Dr. Caligari   \n",
       "1  tt0052893          Hiroshima Mon Amour   \n",
       "2  tt0058898                   Alphaville   \n",
       "3  tt0074252          Ugly, Dirty and Bad   \n",
       "4  tt0084269                Losing Ground   \n",
       "\n",
       "                                                plot movie_rating  \\\n",
       "0  Hypnotist Dr. Caligari uses a somnambulist, Ce...      UNRATED   \n",
       "1  A French actress filming an anti-war film in H...    NOT RATED   \n",
       "2  A U.S. secret agent is sent to the distant spa...    NOT RATED   \n",
       "3  Four generations of a family live crowded toge...          NaN   \n",
       "4  A comedy-drama about a Black American female p...          NaN   \n",
       "\n",
       "   rating_score  metacritic dvd_release                          production  \\\n",
       "0           8.1         NaN  1997-10-15                     Rialto Pictures   \n",
       "1           8.0         NaN  2003-06-24                     Rialto Pictures   \n",
       "2           7.2         NaN  1998-10-20                     Rialto Pictures   \n",
       "3           7.9         NaN  2016-11-01  Compagnia Cinematografica Champion   \n",
       "4           6.3         NaN         NaT              Milestone Film & Video   \n",
       "\n",
       "                                              actors  movie_votes  \\\n",
       "0  Werner Krauss, Conrad Veidt, Friedrich Feher, ...      42583.0   \n",
       "1  Emmanuelle Riva, Eiji Okada, Stella Dassas, Pi...      21154.0   \n",
       "2      Eddie Constantine, Anna Karina, Akim Tamiroff      17801.0   \n",
       "3  Nino Manfredi, Maria Luisa Santella, Francesco...       5705.0   \n",
       "4  Billie Allen, Gary Bolling, Clarence Branch Jr...        132.0   \n",
       "\n",
       "         ...         Release Year Same Day Movies             Actor1  \\\n",
       "0        ...               1921.0               1      Werner Krauss   \n",
       "1        ...               1960.0               1    Emmanuelle Riva   \n",
       "2        ...               1965.0               1  Eddie Constantine   \n",
       "3        ...               1976.0               1      Nino Manfredi   \n",
       "4        ...               1982.0               1       Billie Allen   \n",
       "\n",
       "                  Actor2                Actor3           Actor4 Primary Genre  \\\n",
       "0           Conrad Veidt       Friedrich Feher      Lil Dagover       Fantasy   \n",
       "1             Eiji Okada         Stella Dassas   Pierre Barbaud         Drama   \n",
       "2            Anna Karina         Akim Tamiroff             None         Drama   \n",
       "3   Maria Luisa Santella   Francesco Anniballi      Maria Bosco        Comedy   \n",
       "4           Gary Bolling   Clarence Branch Jr.       Joe Garcia        Comedy   \n",
       "\n",
       "  Secondary Genre Tertiary Genre          Director  \n",
       "0          Horror        Mystery      Robert Wiene  \n",
       "1         Romance           None     Alain Resnais  \n",
       "2         Mystery         Sci-Fi   Jean-Luc Godard  \n",
       "3           Drama           None      Ettore Scola  \n",
       "4           Drama           None  Kathleen Collins  \n",
       "\n",
       "[5 rows x 40 columns]"
      ]
     },
     "execution_count": 16,
     "metadata": {},
     "output_type": "execute_result"
    }
   ],
   "source": [
    "actor=df_movies['actors'].str.split(',',expand=True)\n",
    "actor.rename(columns={0:'Actor1',1:'Actor2',2:'Actor3',3:'Actor4'},inplace=True)\n",
    "df_movies=df_movies.join(actor)\n",
    "\n",
    "genre=df_movies['genre'].str.split(',',expand=True)\n",
    "genre.rename(columns={0:'Primary Genre',1:'Secondary Genre',2:'Tertiary Genre'},inplace=True)\n",
    "df_movies=df_movies.join(genre)\n",
    "\n",
    "director=df_movies['director'].str.split(',',expand=True)\n",
    "director.rename(columns={0:'Director'},inplace=True)\n",
    "df_movies=df_movies.join(director['Director'])\n",
    "\n",
    "df_movies.head()"
   ]
  },
  {
   "cell_type": "code",
   "execution_count": 17,
   "metadata": {},
   "outputs": [
    {
     "name": "stdout",
     "output_type": "stream",
     "text": [
      "<class 'pandas.core.frame.DataFrame'>\n",
      "Int64Index: 8468 entries, 0 to 8467\n",
      "Data columns (total 40 columns):\n",
      "movie_id                   8468 non-null object\n",
      "title                      8468 non-null object\n",
      "plot                       8196 non-null object\n",
      "movie_rating               5252 non-null object\n",
      "rating_score               7735 non-null float64\n",
      "metacritic                 5079 non-null float64\n",
      "dvd_release                5335 non-null datetime64[ns]\n",
      "production                 6758 non-null object\n",
      "actors                     8153 non-null object\n",
      "movie_votes                7735 non-null float64\n",
      "poster                     8468 non-null int64\n",
      "director                   8390 non-null object\n",
      "release_date               8468 non-null object\n",
      "runtime                    7846 non-null object\n",
      "genre                      8424 non-null object\n",
      "awards                     5242 non-null object\n",
      "keywords                   6381 non-null object\n",
      "Budget_x                   8468 non-null object\n",
      "Box Office Gross           8468 non-null object\n",
      "Gross                      2883 non-null object\n",
      "Plot Sentiment             8468 non-null float64\n",
      "Oscar_Won                  8468 non-null int64\n",
      "Oscar_Nominations          8468 non-null int64\n",
      "Normal_Wins                8468 non-null int64\n",
      "Normal_Nominations         8434 non-null float64\n",
      "GoldenGlobe_Nominations    8468 non-null int64\n",
      "GoldenGlobe_Wins           8468 non-null int64\n",
      "Earning Days               5313 non-null float64\n",
      "Release Day Of Week        8283 non-null float64\n",
      "Release Month              8283 non-null float64\n",
      "Release Year               8283 non-null float64\n",
      "Same Day Movies            8468 non-null int64\n",
      "Actor1                     8153 non-null object\n",
      "Actor2                     7993 non-null object\n",
      "Actor3                     7850 non-null object\n",
      "Actor4                     7706 non-null object\n",
      "Primary Genre              8424 non-null object\n",
      "Secondary Genre            6182 non-null object\n",
      "Tertiary Genre             3602 non-null object\n",
      "Director                   8390 non-null object\n",
      "dtypes: datetime64[ns](1), float64(9), int64(7), object(23)\n",
      "memory usage: 3.0+ MB\n"
     ]
    }
   ],
   "source": [
    "df_movies.info()"
   ]
  },
  {
   "cell_type": "markdown",
   "metadata": {},
   "source": [
    "### Dropping unnecessary columns"
   ]
  },
  {
   "cell_type": "code",
   "execution_count": 18,
   "metadata": {},
   "outputs": [
    {
     "name": "stdout",
     "output_type": "stream",
     "text": [
      "<class 'pandas.core.frame.DataFrame'>\n",
      "Int64Index: 8468 entries, 0 to 8467\n",
      "Data columns (total 33 columns):\n",
      "movie_id                   8468 non-null object\n",
      "title                      8468 non-null object\n",
      "movie_rating               5252 non-null object\n",
      "rating_score               7735 non-null float64\n",
      "metacritic                 5079 non-null float64\n",
      "production                 6758 non-null object\n",
      "movie_votes                7735 non-null float64\n",
      "poster                     8468 non-null int64\n",
      "runtime                    7846 non-null object\n",
      "keywords                   6381 non-null object\n",
      "Budget_x                   8468 non-null object\n",
      "Box Office Gross           8468 non-null object\n",
      "Gross                      2883 non-null object\n",
      "Plot Sentiment             8468 non-null float64\n",
      "Oscar_Won                  8468 non-null int64\n",
      "Oscar_Nominations          8468 non-null int64\n",
      "Normal_Wins                8468 non-null int64\n",
      "Normal_Nominations         8434 non-null float64\n",
      "GoldenGlobe_Nominations    8468 non-null int64\n",
      "GoldenGlobe_Wins           8468 non-null int64\n",
      "Earning Days               5313 non-null float64\n",
      "Release Day Of Week        8283 non-null float64\n",
      "Release Month              8283 non-null float64\n",
      "Release Year               8283 non-null float64\n",
      "Same Day Movies            8468 non-null int64\n",
      "Actor1                     8153 non-null object\n",
      "Actor2                     7993 non-null object\n",
      "Actor3                     7850 non-null object\n",
      "Actor4                     7706 non-null object\n",
      "Primary Genre              8424 non-null object\n",
      "Secondary Genre            6182 non-null object\n",
      "Tertiary Genre             3602 non-null object\n",
      "Director                   8390 non-null object\n",
      "dtypes: float64(9), int64(7), object(17)\n",
      "memory usage: 2.5+ MB\n"
     ]
    }
   ],
   "source": [
    "df_movies=df_movies.drop(columns=['plot','dvd_release','actors','director','release_date','genre','awards'],axis=1)\n",
    "df_movies.info()"
   ]
  },
  {
   "cell_type": "markdown",
   "metadata": {},
   "source": [
    "## Visualizing missing values and imputing Null Values"
   ]
  },
  {
   "cell_type": "code",
   "execution_count": 19,
   "metadata": {},
   "outputs": [
    {
     "data": {
      "text/plain": [
       "<matplotlib.axes._subplots.AxesSubplot at 0x23d051f92e8>"
      ]
     },
     "execution_count": 19,
     "metadata": {},
     "output_type": "execute_result"
    },
    {
     "data": {
      "image/png": "[encoded data removed]",
      "text/plain": [
       "<Figure size 1800x720 with 2 Axes>"
      ]
     },
     "metadata": {},
     "output_type": "display_data"
    }
   ],
   "source": [
    "msno.matrix(df_movies)"
   ]
  },
  {
   "cell_type": "code",
   "execution_count": 20,
   "metadata": {},
   "outputs": [],
   "source": [
    "def nulls(df):\n",
    "    nulls = pd.DataFrame(round(df.isnull().sum()/len(df.index)*100,2),columns=['null_percent'])\n",
    "    #sns.barplot(x='index',y='null_percent',data=nulls.reset_index())\n",
    "    return nulls[nulls['null_percent']!=0.00].sort_values('null_percent',ascending=False)"
   ]
  },
  {
   "cell_type": "code",
   "execution_count": 21,
   "metadata": {},
   "outputs": [
    {
     "data": {
      "text/html": [
       "<div>\n",
       "<style scoped>\n",
       "    .dataframe tbody tr th:only-of-type {\n",
       "        vertical-align: middle;\n",
       "    }\n",
       "\n",
       "    .dataframe tbody tr th {\n",
       "        vertical-align: top;\n",
       "    }\n",
       "\n",
       "    .dataframe thead th {\n",
       "        text-align: right;\n",
       "    }\n",
       "</style>\n",
       "<table border=\"1\" class=\"dataframe\">\n",
       "  <thead>\n",
       "    <tr style=\"text-align: right;\">\n",
       "      <th></th>\n",
       "      <th>null_percent</th>\n",
       "    </tr>\n",
       "  </thead>\n",
       "  <tbody>\n",
       "    <tr>\n",
       "      <th>Gross</th>\n",
       "      <td>65.95</td>\n",
       "    </tr>\n",
       "    <tr>\n",
       "      <th>Tertiary Genre</th>\n",
       "      <td>57.46</td>\n",
       "    </tr>\n",
       "    <tr>\n",
       "      <th>metacritic</th>\n",
       "      <td>40.02</td>\n",
       "    </tr>\n",
       "    <tr>\n",
       "      <th>movie_rating</th>\n",
       "      <td>37.98</td>\n",
       "    </tr>\n",
       "    <tr>\n",
       "      <th>Earning Days</th>\n",
       "      <td>37.26</td>\n",
       "    </tr>\n",
       "    <tr>\n",
       "      <th>Secondary Genre</th>\n",
       "      <td>27.00</td>\n",
       "    </tr>\n",
       "    <tr>\n",
       "      <th>keywords</th>\n",
       "      <td>24.65</td>\n",
       "    </tr>\n",
       "    <tr>\n",
       "      <th>production</th>\n",
       "      <td>20.19</td>\n",
       "    </tr>\n",
       "    <tr>\n",
       "      <th>Actor4</th>\n",
       "      <td>9.00</td>\n",
       "    </tr>\n",
       "    <tr>\n",
       "      <th>movie_votes</th>\n",
       "      <td>8.66</td>\n",
       "    </tr>\n",
       "    <tr>\n",
       "      <th>rating_score</th>\n",
       "      <td>8.66</td>\n",
       "    </tr>\n",
       "    <tr>\n",
       "      <th>runtime</th>\n",
       "      <td>7.35</td>\n",
       "    </tr>\n",
       "    <tr>\n",
       "      <th>Actor3</th>\n",
       "      <td>7.30</td>\n",
       "    </tr>\n",
       "    <tr>\n",
       "      <th>Actor2</th>\n",
       "      <td>5.61</td>\n",
       "    </tr>\n",
       "    <tr>\n",
       "      <th>Actor1</th>\n",
       "      <td>3.72</td>\n",
       "    </tr>\n",
       "    <tr>\n",
       "      <th>Release Day Of Week</th>\n",
       "      <td>2.18</td>\n",
       "    </tr>\n",
       "    <tr>\n",
       "      <th>Release Year</th>\n",
       "      <td>2.18</td>\n",
       "    </tr>\n",
       "    <tr>\n",
       "      <th>Release Month</th>\n",
       "      <td>2.18</td>\n",
       "    </tr>\n",
       "    <tr>\n",
       "      <th>Director</th>\n",
       "      <td>0.92</td>\n",
       "    </tr>\n",
       "    <tr>\n",
       "      <th>Primary Genre</th>\n",
       "      <td>0.52</td>\n",
       "    </tr>\n",
       "    <tr>\n",
       "      <th>Normal_Nominations</th>\n",
       "      <td>0.40</td>\n",
       "    </tr>\n",
       "  </tbody>\n",
       "</table>\n",
       "</div>"
      ],
      "text/plain": [
       "                     null_percent\n",
       "Gross                       65.95\n",
       "Tertiary Genre              57.46\n",
       "metacritic                  40.02\n",
       "movie_rating                37.98\n",
       "Earning Days                37.26\n",
       "Secondary Genre             27.00\n",
       "keywords                    24.65\n",
       "production                  20.19\n",
       "Actor4                       9.00\n",
       "movie_votes                  8.66\n",
       "rating_score                 8.66\n",
       "runtime                      7.35\n",
       "Actor3                       7.30\n",
       "Actor2                       5.61\n",
       "Actor1                       3.72\n",
       "Release Day Of Week          2.18\n",
       "Release Year                 2.18\n",
       "Release Month                2.18\n",
       "Director                     0.92\n",
       "Primary Genre                0.52\n",
       "Normal_Nominations           0.40"
      ]
     },
     "execution_count": 21,
     "metadata": {},
     "output_type": "execute_result"
    }
   ],
   "source": [
    "nulls(df_movies)"
   ]
  },
  {
   "cell_type": "markdown",
   "metadata": {},
   "source": [
    "### Imputing Rating_score"
   ]
  },
  {
   "cell_type": "code",
   "execution_count": 22,
   "metadata": {},
   "outputs": [
    {
     "name": "stdout",
     "output_type": "stream",
     "text": [
      "6.31115707821591\n",
      "6.4\n"
     ]
    },
    {
     "name": "stderr",
     "output_type": "stream",
     "text": [
      "D:\\Program Data\\Anaconda3\\lib\\site-packages\\matplotlib\\axes\\_axes.py:6462: UserWarning: The 'normed' kwarg is deprecated, and has been replaced by the 'density' kwarg.\n",
      "  warnings.warn(\"The 'normed' kwarg is deprecated, and has been \"\n"
     ]
    },
    {
     "data": {
      "image/png": "[encoded data removed]",
      "text/plain": [
       "<Figure size 432x288 with 1 Axes>"
      ]
     },
     "metadata": {},
     "output_type": "display_data"
    }
   ],
   "source": [
    "sns.distplot(df_movies['rating_score'].dropna())\n",
    "print(df_movies['rating_score'].mean())\n",
    "print(df_movies['rating_score'].median())"
   ]
  },
  {
   "cell_type": "code",
   "execution_count": 23,
   "metadata": {},
   "outputs": [],
   "source": [
    "df_movies['rating_score']=df_movies['rating_score'].fillna(df_movies['rating_score'].mean())"
   ]
  },
  {
   "cell_type": "markdown",
   "metadata": {},
   "source": [
    "### Imputing movie_votes"
   ]
  },
  {
   "cell_type": "code",
   "execution_count": 24,
   "metadata": {},
   "outputs": [
    {
     "name": "stderr",
     "output_type": "stream",
     "text": [
      "D:\\Program Data\\Anaconda3\\lib\\site-packages\\matplotlib\\axes\\_axes.py:6462: UserWarning: The 'normed' kwarg is deprecated, and has been replaced by the 'density' kwarg.\n",
      "  warnings.warn(\"The 'normed' kwarg is deprecated, and has been \"\n"
     ]
    },
    {
     "name": "stdout",
     "output_type": "stream",
     "text": [
      "34865.721008403365\n",
      "2920.0\n"
     ]
    },
    {
     "data": {
      "image/png": "[encoded data removed]",
      "text/plain": [
       "<Figure size 432x288 with 1 Axes>"
      ]
     },
     "metadata": {},
     "output_type": "display_data"
    }
   ],
   "source": [
    "sns.distplot(df_movies['movie_votes'].dropna())\n",
    "print(df_movies['movie_votes'].mean())\n",
    "print(df_movies['movie_votes'].median())"
   ]
  },
  {
   "cell_type": "code",
   "execution_count": 25,
   "metadata": {},
   "outputs": [],
   "source": [
    "df_movies['movie_votes']=df_movies['movie_votes'].fillna(df_movies['movie_votes'].median())"
   ]
  },
  {
   "cell_type": "markdown",
   "metadata": {},
   "source": [
    "### Imputing metacritic"
   ]
  },
  {
   "cell_type": "code",
   "execution_count": 26,
   "metadata": {},
   "outputs": [
    {
     "name": "stderr",
     "output_type": "stream",
     "text": [
      "D:\\Program Data\\Anaconda3\\lib\\site-packages\\matplotlib\\axes\\_axes.py:6462: UserWarning: The 'normed' kwarg is deprecated, and has been replaced by the 'density' kwarg.\n",
      "  warnings.warn(\"The 'normed' kwarg is deprecated, and has been \"\n"
     ]
    },
    {
     "name": "stdout",
     "output_type": "stream",
     "text": [
      "55.749163221106514\n",
      "56.0\n"
     ]
    },
    {
     "data": {
      "image/png": "[encoded data removed]",
      "text/plain": [
       "<Figure size 432x288 with 1 Axes>"
      ]
     },
     "metadata": {},
     "output_type": "display_data"
    }
   ],
   "source": [
    "sns.distplot(df_movies['metacritic'].dropna())\n",
    "print(df_movies['metacritic'].mean())\n",
    "print(df_movies['metacritic'].median())"
   ]
  },
  {
   "cell_type": "code",
   "execution_count": 27,
   "metadata": {},
   "outputs": [],
   "source": [
    "df_movies['metacritic']=df_movies['metacritic'].fillna(df_movies['metacritic'].mean())"
   ]
  },
  {
   "cell_type": "markdown",
   "metadata": {},
   "source": [
    "### Imputing movie_rating"
   ]
  },
  {
   "cell_type": "code",
   "execution_count": 28,
   "metadata": {},
   "outputs": [
    {
     "data": {
      "image/png": "[encoded data removed]",
      "text/plain": [
       "<Figure size 1296x432 with 1 Axes>"
      ]
     },
     "metadata": {},
     "output_type": "display_data"
    }
   ],
   "source": [
    "plt.figure(figsize=(18,6))\n",
    "ax=sns.countplot(df_movies['movie_rating'].dropna())\n",
    "total = float(len(df_movies['movie_rating']))\n",
    "for p in ax.patches:\n",
    "    height = p.get_height()\n",
    "    ax.text(p.get_x()+p.get_width()/2.,height + 3,'{:1.2f}'.format(height/total),ha=\"center\")"
   ]
  },
  {
   "cell_type": "code",
   "execution_count": 29,
   "metadata": {},
   "outputs": [],
   "source": [
    "df_movies['movie_rating']=df_movies['movie_rating'].fillna('R')"
   ]
  },
  {
   "cell_type": "markdown",
   "metadata": {},
   "source": [
    "### Imputing Director"
   ]
  },
  {
   "cell_type": "code",
   "execution_count": 30,
   "metadata": {},
   "outputs": [],
   "source": [
    "df_movies['Director']=df_movies['Director'].fillna('Director Not Known')"
   ]
  },
  {
   "cell_type": "markdown",
   "metadata": {},
   "source": [
    "### Processing and Imputing runtime"
   ]
  },
  {
   "cell_type": "code",
   "execution_count": 31,
   "metadata": {},
   "outputs": [],
   "source": [
    "df_movies['runtime']=df_movies['runtime'].map(lambda x:str(x)[0:-3].strip())\n"
   ]
  },
  {
   "cell_type": "code",
   "execution_count": 32,
   "metadata": {},
   "outputs": [
    {
     "name": "stdout",
     "output_type": "stream",
     "text": [
      "102.12235534030079\n",
      "99.0\n"
     ]
    },
    {
     "name": "stderr",
     "output_type": "stream",
     "text": [
      "D:\\Program Data\\Anaconda3\\lib\\site-packages\\matplotlib\\axes\\_axes.py:6462: UserWarning: The 'normed' kwarg is deprecated, and has been replaced by the 'density' kwarg.\n",
      "  warnings.warn(\"The 'normed' kwarg is deprecated, and has been \"\n"
     ]
    },
    {
     "data": {
      "image/png": "[encoded data removed]",
      "text/plain": [
       "<Figure size 432x288 with 1 Axes>"
      ]
     },
     "metadata": {},
     "output_type": "display_data"
    }
   ],
   "source": [
    "df_movies['runtime']=pd.to_numeric(df_movies['runtime'])\n",
    "sns.distplot(df_movies['runtime'].dropna())\n",
    "print(df_movies['runtime'].mean())\n",
    "print(df_movies['runtime'].median())"
   ]
  },
  {
   "cell_type": "code",
   "execution_count": 33,
   "metadata": {},
   "outputs": [],
   "source": [
    "df_movies['runtime']=df_movies['runtime'].fillna(df_movies['runtime'].median())"
   ]
  },
  {
   "cell_type": "markdown",
   "metadata": {},
   "source": [
    "### Rechecking missing values"
   ]
  },
  {
   "cell_type": "code",
   "execution_count": 34,
   "metadata": {},
   "outputs": [
    {
     "data": {
      "text/html": [
       "<div>\n",
       "<style scoped>\n",
       "    .dataframe tbody tr th:only-of-type {\n",
       "        vertical-align: middle;\n",
       "    }\n",
       "\n",
       "    .dataframe tbody tr th {\n",
       "        vertical-align: top;\n",
       "    }\n",
       "\n",
       "    .dataframe thead th {\n",
       "        text-align: right;\n",
       "    }\n",
       "</style>\n",
       "<table border=\"1\" class=\"dataframe\">\n",
       "  <thead>\n",
       "    <tr style=\"text-align: right;\">\n",
       "      <th></th>\n",
       "      <th>null_percent</th>\n",
       "    </tr>\n",
       "  </thead>\n",
       "  <tbody>\n",
       "    <tr>\n",
       "      <th>Gross</th>\n",
       "      <td>65.95</td>\n",
       "    </tr>\n",
       "    <tr>\n",
       "      <th>Tertiary Genre</th>\n",
       "      <td>57.46</td>\n",
       "    </tr>\n",
       "    <tr>\n",
       "      <th>Earning Days</th>\n",
       "      <td>37.26</td>\n",
       "    </tr>\n",
       "    <tr>\n",
       "      <th>Secondary Genre</th>\n",
       "      <td>27.00</td>\n",
       "    </tr>\n",
       "    <tr>\n",
       "      <th>keywords</th>\n",
       "      <td>24.65</td>\n",
       "    </tr>\n",
       "    <tr>\n",
       "      <th>production</th>\n",
       "      <td>20.19</td>\n",
       "    </tr>\n",
       "    <tr>\n",
       "      <th>Actor4</th>\n",
       "      <td>9.00</td>\n",
       "    </tr>\n",
       "    <tr>\n",
       "      <th>Actor3</th>\n",
       "      <td>7.30</td>\n",
       "    </tr>\n",
       "    <tr>\n",
       "      <th>Actor2</th>\n",
       "      <td>5.61</td>\n",
       "    </tr>\n",
       "    <tr>\n",
       "      <th>Actor1</th>\n",
       "      <td>3.72</td>\n",
       "    </tr>\n",
       "    <tr>\n",
       "      <th>Release Day Of Week</th>\n",
       "      <td>2.18</td>\n",
       "    </tr>\n",
       "    <tr>\n",
       "      <th>Release Month</th>\n",
       "      <td>2.18</td>\n",
       "    </tr>\n",
       "    <tr>\n",
       "      <th>Release Year</th>\n",
       "      <td>2.18</td>\n",
       "    </tr>\n",
       "    <tr>\n",
       "      <th>Primary Genre</th>\n",
       "      <td>0.52</td>\n",
       "    </tr>\n",
       "    <tr>\n",
       "      <th>Normal_Nominations</th>\n",
       "      <td>0.40</td>\n",
       "    </tr>\n",
       "  </tbody>\n",
       "</table>\n",
       "</div>"
      ],
      "text/plain": [
       "                     null_percent\n",
       "Gross                       65.95\n",
       "Tertiary Genre              57.46\n",
       "Earning Days                37.26\n",
       "Secondary Genre             27.00\n",
       "keywords                    24.65\n",
       "production                  20.19\n",
       "Actor4                       9.00\n",
       "Actor3                       7.30\n",
       "Actor2                       5.61\n",
       "Actor1                       3.72\n",
       "Release Day Of Week          2.18\n",
       "Release Month                2.18\n",
       "Release Year                 2.18\n",
       "Primary Genre                0.52\n",
       "Normal_Nominations           0.40"
      ]
     },
     "execution_count": 34,
     "metadata": {},
     "output_type": "execute_result"
    }
   ],
   "source": [
    "nulls(df_movies)"
   ]
  },
  {
   "cell_type": "markdown",
   "metadata": {},
   "source": [
    "### Imputing Actors,Productions,Normal_Nominations and Primary_Genre"
   ]
  },
  {
   "cell_type": "code",
   "execution_count": 35,
   "metadata": {},
   "outputs": [],
   "source": [
    "df_movies['Actor1']=df_movies['Actor1'].fillna('No Actor')\n",
    "df_movies['Actor2']=df_movies['Actor2'].fillna('No Actor')\n",
    "df_movies['Actor3']=df_movies['Actor3'].fillna('No Actor')\n",
    "df_movies['Actor4']=df_movies['Actor4'].fillna('No Actor')\n",
    "\n",
    "df_movies['production']=df_movies['production'].fillna('No Production')\n",
    "\n",
    "df_movies['Normal_Nominations']=df_movies['Normal_Nominations'].fillna(np.mean(df_movies['Normal_Nominations']))"
   ]
  },
  {
   "cell_type": "code",
   "execution_count": 36,
   "metadata": {},
   "outputs": [
    {
     "data": {
      "text/plain": [
       "Comedy         1935\n",
       "Drama          1780\n",
       "Action         1295\n",
       "Documentary    1289\n",
       "Crime           382\n",
       "Horror          346\n",
       "Animation       302\n",
       "Biography       283\n",
       "Adventure       264\n",
       "Short           241\n",
       "Thriller        104\n",
       "Romance          60\n",
       "Mystery          32\n",
       "Fantasy          31\n",
       "Family           28\n",
       "Sci-Fi           25\n",
       "Musical          10\n",
       "Western           6\n",
       "History           3\n",
       "Sport             3\n",
       "Music             3\n",
       "War               1\n",
       "News              1\n",
       "Name: Primary Genre, dtype: int64"
      ]
     },
     "execution_count": 36,
     "metadata": {},
     "output_type": "execute_result"
    }
   ],
   "source": [
    "df_movies['Primary Genre'].value_counts()"
   ]
  },
  {
   "cell_type": "code",
   "execution_count": 37,
   "metadata": {},
   "outputs": [],
   "source": [
    "df_movies['Primary Genre']=df_movies['Primary Genre'].fillna('Others')\n",
    "df_movies['Secondary Genre']=df_movies['Primary Genre'].fillna('No Genre')\n",
    "df_movies['Tertiary Genre']=df_movies['Primary Genre'].fillna('No Genre')"
   ]
  },
  {
   "cell_type": "markdown",
   "metadata": {},
   "source": [
    "### Rechecking missing values"
   ]
  },
  {
   "cell_type": "code",
   "execution_count": 38,
   "metadata": {},
   "outputs": [
    {
     "data": {
      "text/html": [
       "<div>\n",
       "<style scoped>\n",
       "    .dataframe tbody tr th:only-of-type {\n",
       "        vertical-align: middle;\n",
       "    }\n",
       "\n",
       "    .dataframe tbody tr th {\n",
       "        vertical-align: top;\n",
       "    }\n",
       "\n",
       "    .dataframe thead th {\n",
       "        text-align: right;\n",
       "    }\n",
       "</style>\n",
       "<table border=\"1\" class=\"dataframe\">\n",
       "  <thead>\n",
       "    <tr style=\"text-align: right;\">\n",
       "      <th></th>\n",
       "      <th>null_percent</th>\n",
       "    </tr>\n",
       "  </thead>\n",
       "  <tbody>\n",
       "    <tr>\n",
       "      <th>Gross</th>\n",
       "      <td>65.95</td>\n",
       "    </tr>\n",
       "    <tr>\n",
       "      <th>Earning Days</th>\n",
       "      <td>37.26</td>\n",
       "    </tr>\n",
       "    <tr>\n",
       "      <th>keywords</th>\n",
       "      <td>24.65</td>\n",
       "    </tr>\n",
       "    <tr>\n",
       "      <th>Release Day Of Week</th>\n",
       "      <td>2.18</td>\n",
       "    </tr>\n",
       "    <tr>\n",
       "      <th>Release Month</th>\n",
       "      <td>2.18</td>\n",
       "    </tr>\n",
       "    <tr>\n",
       "      <th>Release Year</th>\n",
       "      <td>2.18</td>\n",
       "    </tr>\n",
       "  </tbody>\n",
       "</table>\n",
       "</div>"
      ],
      "text/plain": [
       "                     null_percent\n",
       "Gross                       65.95\n",
       "Earning Days                37.26\n",
       "keywords                    24.65\n",
       "Release Day Of Week          2.18\n",
       "Release Month                2.18\n",
       "Release Year                 2.18"
      ]
     },
     "execution_count": 38,
     "metadata": {},
     "output_type": "execute_result"
    }
   ],
   "source": [
    "nulls(df_movies)"
   ]
  },
  {
   "cell_type": "code",
   "execution_count": 39,
   "metadata": {},
   "outputs": [
    {
     "data": {
      "text/plain": [
       "4.0    5666\n",
       "3.0     894\n",
       "2.0     730\n",
       "5.0     318\n",
       "1.0     317\n",
       "6.0     186\n",
       "0.0     172\n",
       "Name: Release Day Of Week, dtype: int64"
      ]
     },
     "execution_count": 39,
     "metadata": {},
     "output_type": "execute_result"
    }
   ],
   "source": [
    "df_movies['Release Day Of Week'].value_counts()"
   ]
  },
  {
   "cell_type": "code",
   "execution_count": 40,
   "metadata": {},
   "outputs": [],
   "source": [
    "df_movies['Release Day Of Week']=df_movies['Release Day Of Week'].fillna(4.0)"
   ]
  },
  {
   "cell_type": "code",
   "execution_count": 41,
   "metadata": {},
   "outputs": [
    {
     "data": {
      "text/plain": [
       "4.0     826\n",
       "10.0    823\n",
       "9.0     806\n",
       "3.0     740\n",
       "8.0     703\n",
       "5.0     701\n",
       "1.0     680\n",
       "6.0     658\n",
       "11.0    628\n",
       "7.0     599\n",
       "2.0     586\n",
       "12.0    533\n",
       "Name: Release Month, dtype: int64"
      ]
     },
     "execution_count": 41,
     "metadata": {},
     "output_type": "execute_result"
    }
   ],
   "source": [
    "df_movies['Release Month'].value_counts()"
   ]
  },
  {
   "cell_type": "code",
   "execution_count": 42,
   "metadata": {},
   "outputs": [],
   "source": [
    "df_movies['Release Month']=df_movies['Release Month'].fillna(np.random.choice([4,10,9]))"
   ]
  },
  {
   "cell_type": "code",
   "execution_count": 43,
   "metadata": {},
   "outputs": [
    {
     "data": {
      "text/plain": [
       "2016.0    1199\n",
       "2015.0    1068\n",
       "2014.0     893\n",
       "2017.0     815\n",
       "2013.0     704\n",
       "2012.0     623\n",
       "2011.0     551\n",
       "2009.0     462\n",
       "2008.0     447\n",
       "2010.0     430\n",
       "2007.0     117\n",
       "2018.0      81\n",
       "2006.0      57\n",
       "2004.0      48\n",
       "1999.0      46\n",
       "2003.0      45\n",
       "1998.0      45\n",
       "2005.0      42\n",
       "2000.0      42\n",
       "2019.0      40\n",
       "1997.0      37\n",
       "2001.0      37\n",
       "1994.0      36\n",
       "1996.0      34\n",
       "1995.0      33\n",
       "2002.0      33\n",
       "1990.0      30\n",
       "1993.0      30\n",
       "1991.0      28\n",
       "1992.0      24\n",
       "          ... \n",
       "1986.0      13\n",
       "1984.0      13\n",
       "1981.0      13\n",
       "1980.0      13\n",
       "1988.0      12\n",
       "1985.0       9\n",
       "2021.0       5\n",
       "1979.0       5\n",
       "1978.0       3\n",
       "1960.0       2\n",
       "1975.0       2\n",
       "1963.0       2\n",
       "1972.0       2\n",
       "1970.0       2\n",
       "1953.0       1\n",
       "1921.0       1\n",
       "1950.0       1\n",
       "1967.0       1\n",
       "2025.0       1\n",
       "1964.0       1\n",
       "2024.0       1\n",
       "1917.0       1\n",
       "1977.0       1\n",
       "1937.0       1\n",
       "1976.0       1\n",
       "1954.0       1\n",
       "1974.0       1\n",
       "1971.0       1\n",
       "1965.0       1\n",
       "1936.0       1\n",
       "Name: Release Year, Length: 65, dtype: int64"
      ]
     },
     "execution_count": 43,
     "metadata": {},
     "output_type": "execute_result"
    }
   ],
   "source": [
    "df_movies['Release Year'].value_counts()"
   ]
  },
  {
   "cell_type": "code",
   "execution_count": 44,
   "metadata": {},
   "outputs": [],
   "source": [
    "df_movies['Release Year']=df_movies['Release Year'].fillna(np.random.choice([2015,2016]))"
   ]
  },
  {
   "cell_type": "code",
   "execution_count": 45,
   "metadata": {},
   "outputs": [],
   "source": [
    "df_movies['Earning Days']=df_movies['Earning Days'].fillna(np.mean(df_movies['Earning Days']))"
   ]
  },
  {
   "cell_type": "markdown",
   "metadata": {},
   "source": [
    "### Rechecking for missing values"
   ]
  },
  {
   "cell_type": "code",
   "execution_count": 46,
   "metadata": {},
   "outputs": [
    {
     "data": {
      "text/html": [
       "<div>\n",
       "<style scoped>\n",
       "    .dataframe tbody tr th:only-of-type {\n",
       "        vertical-align: middle;\n",
       "    }\n",
       "\n",
       "    .dataframe tbody tr th {\n",
       "        vertical-align: top;\n",
       "    }\n",
       "\n",
       "    .dataframe thead th {\n",
       "        text-align: right;\n",
       "    }\n",
       "</style>\n",
       "<table border=\"1\" class=\"dataframe\">\n",
       "  <thead>\n",
       "    <tr style=\"text-align: right;\">\n",
       "      <th></th>\n",
       "      <th>null_percent</th>\n",
       "    </tr>\n",
       "  </thead>\n",
       "  <tbody>\n",
       "    <tr>\n",
       "      <th>Gross</th>\n",
       "      <td>65.95</td>\n",
       "    </tr>\n",
       "    <tr>\n",
       "      <th>keywords</th>\n",
       "      <td>24.65</td>\n",
       "    </tr>\n",
       "  </tbody>\n",
       "</table>\n",
       "</div>"
      ],
      "text/plain": [
       "          null_percent\n",
       "Gross            65.95\n",
       "keywords         24.65"
      ]
     },
     "execution_count": 46,
     "metadata": {},
     "output_type": "execute_result"
    }
   ],
   "source": [
    "nulls(df_movies)"
   ]
  },
  {
   "cell_type": "code",
   "execution_count": 47,
   "metadata": {},
   "outputs": [
    {
     "name": "stdout",
     "output_type": "stream",
     "text": [
      "<class 'pandas.core.frame.DataFrame'>\n",
      "Int64Index: 8468 entries, 0 to 8467\n",
      "Data columns (total 33 columns):\n",
      "movie_id                   8468 non-null object\n",
      "title                      8468 non-null object\n",
      "movie_rating               8468 non-null object\n",
      "rating_score               8468 non-null float64\n",
      "metacritic                 8468 non-null float64\n",
      "production                 8468 non-null object\n",
      "movie_votes                8468 non-null float64\n",
      "poster                     8468 non-null int64\n",
      "runtime                    8468 non-null float64\n",
      "keywords                   6381 non-null object\n",
      "Budget_x                   8468 non-null object\n",
      "Box Office Gross           8468 non-null object\n",
      "Gross                      2883 non-null object\n",
      "Plot Sentiment             8468 non-null float64\n",
      "Oscar_Won                  8468 non-null int64\n",
      "Oscar_Nominations          8468 non-null int64\n",
      "Normal_Wins                8468 non-null int64\n",
      "Normal_Nominations         8468 non-null float64\n",
      "GoldenGlobe_Nominations    8468 non-null int64\n",
      "GoldenGlobe_Wins           8468 non-null int64\n",
      "Earning Days               8468 non-null float64\n",
      "Release Day Of Week        8468 non-null float64\n",
      "Release Month              8468 non-null float64\n",
      "Release Year               8468 non-null float64\n",
      "Same Day Movies            8468 non-null int64\n",
      "Actor1                     8468 non-null object\n",
      "Actor2                     8468 non-null object\n",
      "Actor3                     8468 non-null object\n",
      "Actor4                     8468 non-null object\n",
      "Primary Genre              8468 non-null object\n",
      "Secondary Genre            8468 non-null object\n",
      "Tertiary Genre             8468 non-null object\n",
      "Director                   8468 non-null object\n",
      "dtypes: float64(10), int64(7), object(16)\n",
      "memory usage: 2.5+ MB\n"
     ]
    }
   ],
   "source": [
    "df_movies.info()"
   ]
  },
  {
   "cell_type": "markdown",
   "metadata": {},
   "source": [
    "### Dropping keywords as keywords have nothing to do with Profitability"
   ]
  },
  {
   "cell_type": "code",
   "execution_count": 48,
   "metadata": {},
   "outputs": [
    {
     "data": {
      "text/html": [
       "<div>\n",
       "<style scoped>\n",
       "    .dataframe tbody tr th:only-of-type {\n",
       "        vertical-align: middle;\n",
       "    }\n",
       "\n",
       "    .dataframe tbody tr th {\n",
       "        vertical-align: top;\n",
       "    }\n",
       "\n",
       "    .dataframe thead th {\n",
       "        text-align: right;\n",
       "    }\n",
       "</style>\n",
       "<table border=\"1\" class=\"dataframe\">\n",
       "  <thead>\n",
       "    <tr style=\"text-align: right;\">\n",
       "      <th></th>\n",
       "      <th>null_percent</th>\n",
       "    </tr>\n",
       "  </thead>\n",
       "  <tbody>\n",
       "    <tr>\n",
       "      <th>Gross</th>\n",
       "      <td>65.95</td>\n",
       "    </tr>\n",
       "  </tbody>\n",
       "</table>\n",
       "</div>"
      ],
      "text/plain": [
       "       null_percent\n",
       "Gross         65.95"
      ]
     },
     "execution_count": 48,
     "metadata": {},
     "output_type": "execute_result"
    }
   ],
   "source": [
    "df_movies=df_movies.drop(columns=['keywords'],axis=1)\n",
    "nulls(df_movies)"
   ]
  },
  {
   "cell_type": "markdown",
   "metadata": {},
   "source": [
    "### Processing and Imputing Budget_X"
   ]
  },
  {
   "cell_type": "code",
   "execution_count": 49,
   "metadata": {},
   "outputs": [],
   "source": [
    "df_movies['Budget_x']=df_movies['Budget_x'].map(lambda x: str(x).replace(',',''))\n",
    "\n",
    "df_movies['Budget_x USD'] = df_movies['Budget_x'].str.replace('([A-Z]+)', '')\n",
    "df_movies['Budget_x Currency'] = df_movies['Budget_x'].str.extract('([A-Z]+)')"
   ]
  },
  {
   "cell_type": "code",
   "execution_count": 50,
   "metadata": {},
   "outputs": [
    {
     "data": {
      "text/plain": [
       "CAD    2\n",
       "EU     1\n",
       "Name: Budget_x Currency, dtype: int64"
      ]
     },
     "execution_count": 50,
     "metadata": {},
     "output_type": "execute_result"
    }
   ],
   "source": [
    "df_movies['Budget_x Currency'].value_counts()"
   ]
  },
  {
   "cell_type": "code",
   "execution_count": 51,
   "metadata": {},
   "outputs": [],
   "source": [
    "df_movies['Budget_x Currency']=df_movies['Budget_x Currency'].fillna('USD')"
   ]
  },
  {
   "cell_type": "code",
   "execution_count": 52,
   "metadata": {},
   "outputs": [],
   "source": [
    "df_movies['Budget_x USD']=pd.to_numeric(df_movies['Budget_x USD'])"
   ]
  },
  {
   "cell_type": "code",
   "execution_count": 53,
   "metadata": {},
   "outputs": [],
   "source": [
    "df_movies['Budget_x USD']=np.where(df_movies['Budget_x Currency']=='CAD',df_movies['Budget_x USD']*0.75,df_movies['Budget_x USD'])\n",
    "df_movies['Budget_x USD']=np.where(df_movies['Budget_x Currency']=='EU',df_movies['Budget_x USD']*1.13,df_movies['Budget_x USD'])"
   ]
  },
  {
   "cell_type": "markdown",
   "metadata": {},
   "source": [
    "### Processing and imputing Box Office Gross"
   ]
  },
  {
   "cell_type": "code",
   "execution_count": 54,
   "metadata": {},
   "outputs": [],
   "source": [
    "df_movies['Box Office Gross']=np.where(df_movies['Box Office Gross'].str.startswith('<'),'0',df_movies['Box Office Gross'])\n",
    "df_movies['Box Office Gross']=np.where(df_movies['Box Office Gross'].str.startswith('F'),'0',df_movies['Box Office Gross'])\n",
    "df_movies['Box Office Gross']=np.where(df_movies['Box Office Gross'].str.startswith('W'),'0',df_movies['Box Office Gross'])\n",
    "\n",
    "df_movies['Box Office Gross']=df_movies['Box Office Gross'].map(lambda x: str(x).replace(',',''))"
   ]
  },
  {
   "cell_type": "code",
   "execution_count": 55,
   "metadata": {},
   "outputs": [],
   "source": [
    "df_movies['Box Office Gross USD'] = df_movies['Box Office Gross'].str.replace('([A-Z]+)', '')\n",
    "df_movies['Box Office Currency'] = df_movies['Box Office Gross'].str.extract('([A-Z]+)')"
   ]
  },
  {
   "cell_type": "code",
   "execution_count": 56,
   "metadata": {},
   "outputs": [
    {
     "data": {
      "text/plain": [
       "EU     153\n",
       "GBP     93\n",
       "Name: Box Office Currency, dtype: int64"
      ]
     },
     "execution_count": 56,
     "metadata": {},
     "output_type": "execute_result"
    }
   ],
   "source": [
    "df_movies['Box Office Currency'].value_counts()"
   ]
  },
  {
   "cell_type": "code",
   "execution_count": 57,
   "metadata": {},
   "outputs": [],
   "source": [
    "df_movies['Box Office Currency']=df_movies['Box Office Currency'].fillna('USD')"
   ]
  },
  {
   "cell_type": "code",
   "execution_count": 58,
   "metadata": {},
   "outputs": [],
   "source": [
    "df_movies['Box Office Gross USD']=pd.to_numeric(df_movies['Box Office Gross USD'])"
   ]
  },
  {
   "cell_type": "code",
   "execution_count": 59,
   "metadata": {},
   "outputs": [],
   "source": [
    "df_movies['Box Office Gross USD']=np.where(df_movies['Box Office Currency']=='GBP',df_movies['Box Office Gross USD']*1.32,df_movies['Box Office Gross USD'])\n",
    "df_movies['Box Office Gross USD']=np.where(df_movies['Box Office Currency']=='EU',df_movies['Box Office Gross USD']*1.13,df_movies['Box Office Gross USD'])"
   ]
  },
  {
   "cell_type": "markdown",
   "metadata": {},
   "source": [
    "### Dropping Columns Box Office Currency and Budget_x Currency"
   ]
  },
  {
   "cell_type": "code",
   "execution_count": 60,
   "metadata": {},
   "outputs": [
    {
     "data": {
      "text/html": [
       "<div>\n",
       "<style scoped>\n",
       "    .dataframe tbody tr th:only-of-type {\n",
       "        vertical-align: middle;\n",
       "    }\n",
       "\n",
       "    .dataframe tbody tr th {\n",
       "        vertical-align: top;\n",
       "    }\n",
       "\n",
       "    .dataframe thead th {\n",
       "        text-align: right;\n",
       "    }\n",
       "</style>\n",
       "<table border=\"1\" class=\"dataframe\">\n",
       "  <thead>\n",
       "    <tr style=\"text-align: right;\">\n",
       "      <th></th>\n",
       "      <th>movie_id</th>\n",
       "      <th>title</th>\n",
       "      <th>movie_rating</th>\n",
       "      <th>rating_score</th>\n",
       "      <th>metacritic</th>\n",
       "      <th>production</th>\n",
       "      <th>movie_votes</th>\n",
       "      <th>poster</th>\n",
       "      <th>runtime</th>\n",
       "      <th>Gross</th>\n",
       "      <th>...</th>\n",
       "      <th>Actor1</th>\n",
       "      <th>Actor2</th>\n",
       "      <th>Actor3</th>\n",
       "      <th>Actor4</th>\n",
       "      <th>Primary Genre</th>\n",
       "      <th>Secondary Genre</th>\n",
       "      <th>Tertiary Genre</th>\n",
       "      <th>Director</th>\n",
       "      <th>Budget_x USD</th>\n",
       "      <th>Box Office Gross USD</th>\n",
       "    </tr>\n",
       "  </thead>\n",
       "  <tbody>\n",
       "    <tr>\n",
       "      <th>0</th>\n",
       "      <td>tt0010323</td>\n",
       "      <td>The Cabinet of Dr. Caligari</td>\n",
       "      <td>UNRATED</td>\n",
       "      <td>8.1</td>\n",
       "      <td>55.749163</td>\n",
       "      <td>Rialto Pictures</td>\n",
       "      <td>42583.0</td>\n",
       "      <td>1</td>\n",
       "      <td>67.0</td>\n",
       "      <td>NaN</td>\n",
       "      <td>...</td>\n",
       "      <td>Werner Krauss</td>\n",
       "      <td>Conrad Veidt</td>\n",
       "      <td>Friedrich Feher</td>\n",
       "      <td>Lil Dagover</td>\n",
       "      <td>Fantasy</td>\n",
       "      <td>Fantasy</td>\n",
       "      <td>Fantasy</td>\n",
       "      <td>Robert Wiene</td>\n",
       "      <td>18000.0</td>\n",
       "      <td>0.0</td>\n",
       "    </tr>\n",
       "    <tr>\n",
       "      <th>1</th>\n",
       "      <td>tt0052893</td>\n",
       "      <td>Hiroshima Mon Amour</td>\n",
       "      <td>NOT RATED</td>\n",
       "      <td>8.0</td>\n",
       "      <td>55.749163</td>\n",
       "      <td>Rialto Pictures</td>\n",
       "      <td>21154.0</td>\n",
       "      <td>1</td>\n",
       "      <td>90.0</td>\n",
       "      <td>NaN</td>\n",
       "      <td>...</td>\n",
       "      <td>Emmanuelle Riva</td>\n",
       "      <td>Eiji Okada</td>\n",
       "      <td>Stella Dassas</td>\n",
       "      <td>Pierre Barbaud</td>\n",
       "      <td>Drama</td>\n",
       "      <td>Drama</td>\n",
       "      <td>Drama</td>\n",
       "      <td>Alain Resnais</td>\n",
       "      <td>88300.0</td>\n",
       "      <td>0.0</td>\n",
       "    </tr>\n",
       "    <tr>\n",
       "      <th>2</th>\n",
       "      <td>tt0058898</td>\n",
       "      <td>Alphaville</td>\n",
       "      <td>NOT RATED</td>\n",
       "      <td>7.2</td>\n",
       "      <td>55.749163</td>\n",
       "      <td>Rialto Pictures</td>\n",
       "      <td>17801.0</td>\n",
       "      <td>1</td>\n",
       "      <td>99.0</td>\n",
       "      <td>46585</td>\n",
       "      <td>...</td>\n",
       "      <td>Eddie Constantine</td>\n",
       "      <td>Anna Karina</td>\n",
       "      <td>Akim Tamiroff</td>\n",
       "      <td>No Actor</td>\n",
       "      <td>Drama</td>\n",
       "      <td>Drama</td>\n",
       "      <td>Drama</td>\n",
       "      <td>Jean-Luc Godard</td>\n",
       "      <td>220000.0</td>\n",
       "      <td>0.0</td>\n",
       "    </tr>\n",
       "    <tr>\n",
       "      <th>3</th>\n",
       "      <td>tt0074252</td>\n",
       "      <td>Ugly, Dirty and Bad</td>\n",
       "      <td>R</td>\n",
       "      <td>7.9</td>\n",
       "      <td>55.749163</td>\n",
       "      <td>Compagnia Cinematografica Champion</td>\n",
       "      <td>5705.0</td>\n",
       "      <td>1</td>\n",
       "      <td>115.0</td>\n",
       "      <td>NaN</td>\n",
       "      <td>...</td>\n",
       "      <td>Nino Manfredi</td>\n",
       "      <td>Maria Luisa Santella</td>\n",
       "      <td>Francesco Anniballi</td>\n",
       "      <td>Maria Bosco</td>\n",
       "      <td>Comedy</td>\n",
       "      <td>Comedy</td>\n",
       "      <td>Comedy</td>\n",
       "      <td>Ettore Scola</td>\n",
       "      <td>6590.0</td>\n",
       "      <td>0.0</td>\n",
       "    </tr>\n",
       "    <tr>\n",
       "      <th>4</th>\n",
       "      <td>tt0084269</td>\n",
       "      <td>Losing Ground</td>\n",
       "      <td>R</td>\n",
       "      <td>6.3</td>\n",
       "      <td>55.749163</td>\n",
       "      <td>Milestone Film &amp; Video</td>\n",
       "      <td>132.0</td>\n",
       "      <td>1</td>\n",
       "      <td>86.0</td>\n",
       "      <td>NaN</td>\n",
       "      <td>...</td>\n",
       "      <td>Billie Allen</td>\n",
       "      <td>Gary Bolling</td>\n",
       "      <td>Clarence Branch Jr.</td>\n",
       "      <td>Joe Garcia</td>\n",
       "      <td>Comedy</td>\n",
       "      <td>Comedy</td>\n",
       "      <td>Comedy</td>\n",
       "      <td>Kathleen Collins</td>\n",
       "      <td>0.0</td>\n",
       "      <td>0.0</td>\n",
       "    </tr>\n",
       "  </tbody>\n",
       "</table>\n",
       "<p>5 rows × 32 columns</p>\n",
       "</div>"
      ],
      "text/plain": [
       "    movie_id                        title movie_rating  rating_score  \\\n",
       "0  tt0010323  The Cabinet of Dr. Caligari      UNRATED           8.1   \n",
       "1  tt0052893          Hiroshima Mon Amour    NOT RATED           8.0   \n",
       "2  tt0058898                   Alphaville    NOT RATED           7.2   \n",
       "3  tt0074252          Ugly, Dirty and Bad            R           7.9   \n",
       "4  tt0084269                Losing Ground            R           6.3   \n",
       "\n",
       "   metacritic                          production  movie_votes  poster  \\\n",
       "0   55.749163                     Rialto Pictures      42583.0       1   \n",
       "1   55.749163                     Rialto Pictures      21154.0       1   \n",
       "2   55.749163                     Rialto Pictures      17801.0       1   \n",
       "3   55.749163  Compagnia Cinematografica Champion       5705.0       1   \n",
       "4   55.749163              Milestone Film & Video        132.0       1   \n",
       "\n",
       "   runtime  Gross          ...                      Actor1  \\\n",
       "0     67.0    NaN          ...               Werner Krauss   \n",
       "1     90.0    NaN          ...             Emmanuelle Riva   \n",
       "2     99.0  46585          ...           Eddie Constantine   \n",
       "3    115.0    NaN          ...               Nino Manfredi   \n",
       "4     86.0    NaN          ...                Billie Allen   \n",
       "\n",
       "                  Actor2                Actor3           Actor4  \\\n",
       "0           Conrad Veidt       Friedrich Feher      Lil Dagover   \n",
       "1             Eiji Okada         Stella Dassas   Pierre Barbaud   \n",
       "2            Anna Karina         Akim Tamiroff         No Actor   \n",
       "3   Maria Luisa Santella   Francesco Anniballi      Maria Bosco   \n",
       "4           Gary Bolling   Clarence Branch Jr.       Joe Garcia   \n",
       "\n",
       "   Primary Genre  Secondary Genre  Tertiary Genre          Director  \\\n",
       "0        Fantasy          Fantasy         Fantasy      Robert Wiene   \n",
       "1          Drama            Drama           Drama     Alain Resnais   \n",
       "2          Drama            Drama           Drama   Jean-Luc Godard   \n",
       "3         Comedy           Comedy          Comedy      Ettore Scola   \n",
       "4         Comedy           Comedy          Comedy  Kathleen Collins   \n",
       "\n",
       "   Budget_x USD  Box Office Gross USD  \n",
       "0       18000.0                   0.0  \n",
       "1       88300.0                   0.0  \n",
       "2      220000.0                   0.0  \n",
       "3        6590.0                   0.0  \n",
       "4           0.0                   0.0  \n",
       "\n",
       "[5 rows x 32 columns]"
      ]
     },
     "execution_count": 60,
     "metadata": {},
     "output_type": "execute_result"
    }
   ],
   "source": [
    "df_movies=df_movies.drop(columns=['Box Office Currency','Budget_x Currency','Budget_x','Box Office Gross'],axis=1)\n",
    "df_movies.head()"
   ]
  },
  {
   "cell_type": "code",
   "execution_count": 61,
   "metadata": {},
   "outputs": [
    {
     "data": {
      "text/html": [
       "<div>\n",
       "<style scoped>\n",
       "    .dataframe tbody tr th:only-of-type {\n",
       "        vertical-align: middle;\n",
       "    }\n",
       "\n",
       "    .dataframe tbody tr th {\n",
       "        vertical-align: top;\n",
       "    }\n",
       "\n",
       "    .dataframe thead th {\n",
       "        text-align: right;\n",
       "    }\n",
       "</style>\n",
       "<table border=\"1\" class=\"dataframe\">\n",
       "  <thead>\n",
       "    <tr style=\"text-align: right;\">\n",
       "      <th></th>\n",
       "      <th>null_percent</th>\n",
       "    </tr>\n",
       "  </thead>\n",
       "  <tbody>\n",
       "    <tr>\n",
       "      <th>Gross</th>\n",
       "      <td>65.95</td>\n",
       "    </tr>\n",
       "  </tbody>\n",
       "</table>\n",
       "</div>"
      ],
      "text/plain": [
       "       null_percent\n",
       "Gross         65.95"
      ]
     },
     "execution_count": 61,
     "metadata": {},
     "output_type": "execute_result"
    }
   ],
   "source": [
    "nulls(df_movies)"
   ]
  },
  {
   "cell_type": "code",
   "execution_count": 62,
   "metadata": {},
   "outputs": [
    {
     "name": "stdout",
     "output_type": "stream",
     "text": [
      "<class 'pandas.core.frame.DataFrame'>\n",
      "Int64Index: 8468 entries, 0 to 8467\n",
      "Data columns (total 31 columns):\n",
      "movie_id                   8468 non-null object\n",
      "title                      8468 non-null object\n",
      "movie_rating               8468 non-null object\n",
      "rating_score               8468 non-null float64\n",
      "metacritic                 8468 non-null float64\n",
      "production                 8468 non-null object\n",
      "movie_votes                8468 non-null float64\n",
      "poster                     8468 non-null int64\n",
      "runtime                    8468 non-null float64\n",
      "Plot Sentiment             8468 non-null float64\n",
      "Oscar_Won                  8468 non-null int64\n",
      "Oscar_Nominations          8468 non-null int64\n",
      "Normal_Wins                8468 non-null int64\n",
      "Normal_Nominations         8468 non-null float64\n",
      "GoldenGlobe_Nominations    8468 non-null int64\n",
      "GoldenGlobe_Wins           8468 non-null int64\n",
      "Earning Days               8468 non-null float64\n",
      "Release Day Of Week        8468 non-null float64\n",
      "Release Month              8468 non-null float64\n",
      "Release Year               8468 non-null float64\n",
      "Same Day Movies            8468 non-null int64\n",
      "Actor1                     8468 non-null object\n",
      "Actor2                     8468 non-null object\n",
      "Actor3                     8468 non-null object\n",
      "Actor4                     8468 non-null object\n",
      "Primary Genre              8468 non-null object\n",
      "Secondary Genre            8468 non-null object\n",
      "Tertiary Genre             8468 non-null object\n",
      "Director                   8468 non-null object\n",
      "Budget                     8468 non-null float64\n",
      "Box Office Gross USD       8468 non-null float64\n",
      "dtypes: float64(12), int64(7), object(12)\n",
      "memory usage: 2.1+ MB\n"
     ]
    }
   ],
   "source": [
    "df_movies=df_movies.drop(columns=['Gross'],axis=1)\n",
    "df_movies.rename(columns={'Budget_x USD':'Budget'},inplace=True)\n",
    "\n",
    "df_movies.info()"
   ]
  },
  {
   "cell_type": "code",
   "execution_count": null,
   "metadata": {},
   "outputs": [],
   "source": []
  },
  {
   "cell_type": "code",
   "execution_count": 63,
   "metadata": {},
   "outputs": [
    {
     "data": {
      "text/html": [
       "<div>\n",
       "<style scoped>\n",
       "    .dataframe tbody tr th:only-of-type {\n",
       "        vertical-align: middle;\n",
       "    }\n",
       "\n",
       "    .dataframe tbody tr th {\n",
       "        vertical-align: top;\n",
       "    }\n",
       "\n",
       "    .dataframe thead th {\n",
       "        text-align: right;\n",
       "    }\n",
       "</style>\n",
       "<table border=\"1\" class=\"dataframe\">\n",
       "  <thead>\n",
       "    <tr style=\"text-align: right;\">\n",
       "      <th></th>\n",
       "      <th>movie_id</th>\n",
       "      <th>title</th>\n",
       "      <th>movie_rating</th>\n",
       "      <th>rating_score</th>\n",
       "      <th>metacritic</th>\n",
       "      <th>production</th>\n",
       "      <th>movie_votes</th>\n",
       "      <th>poster</th>\n",
       "      <th>runtime</th>\n",
       "      <th>Plot Sentiment</th>\n",
       "      <th>...</th>\n",
       "      <th>Actor1</th>\n",
       "      <th>Actor2</th>\n",
       "      <th>Actor3</th>\n",
       "      <th>Actor4</th>\n",
       "      <th>Primary Genre</th>\n",
       "      <th>Secondary Genre</th>\n",
       "      <th>Tertiary Genre</th>\n",
       "      <th>Director</th>\n",
       "      <th>Budget</th>\n",
       "      <th>Box Office Gross USD</th>\n",
       "    </tr>\n",
       "  </thead>\n",
       "  <tbody>\n",
       "    <tr>\n",
       "      <th>0</th>\n",
       "      <td>tt0010323</td>\n",
       "      <td>The Cabinet of Dr. Caligari</td>\n",
       "      <td>UNRATED</td>\n",
       "      <td>8.1</td>\n",
       "      <td>55.749163</td>\n",
       "      <td>Rialto Pictures</td>\n",
       "      <td>42583.0</td>\n",
       "      <td>1</td>\n",
       "      <td>67.0</td>\n",
       "      <td>0.000000</td>\n",
       "      <td>...</td>\n",
       "      <td>Werner Krauss</td>\n",
       "      <td>Conrad Veidt</td>\n",
       "      <td>Friedrich Feher</td>\n",
       "      <td>Lil Dagover</td>\n",
       "      <td>Fantasy</td>\n",
       "      <td>Fantasy</td>\n",
       "      <td>Fantasy</td>\n",
       "      <td>Robert Wiene</td>\n",
       "      <td>18000.0</td>\n",
       "      <td>0.0</td>\n",
       "    </tr>\n",
       "    <tr>\n",
       "      <th>1</th>\n",
       "      <td>tt0052893</td>\n",
       "      <td>Hiroshima Mon Amour</td>\n",
       "      <td>NOT RATED</td>\n",
       "      <td>8.0</td>\n",
       "      <td>55.749163</td>\n",
       "      <td>Rialto Pictures</td>\n",
       "      <td>21154.0</td>\n",
       "      <td>1</td>\n",
       "      <td>90.0</td>\n",
       "      <td>0.083333</td>\n",
       "      <td>...</td>\n",
       "      <td>Emmanuelle Riva</td>\n",
       "      <td>Eiji Okada</td>\n",
       "      <td>Stella Dassas</td>\n",
       "      <td>Pierre Barbaud</td>\n",
       "      <td>Drama</td>\n",
       "      <td>Drama</td>\n",
       "      <td>Drama</td>\n",
       "      <td>Alain Resnais</td>\n",
       "      <td>88300.0</td>\n",
       "      <td>0.0</td>\n",
       "    </tr>\n",
       "    <tr>\n",
       "      <th>2</th>\n",
       "      <td>tt0058898</td>\n",
       "      <td>Alphaville</td>\n",
       "      <td>NOT RATED</td>\n",
       "      <td>7.2</td>\n",
       "      <td>55.749163</td>\n",
       "      <td>Rialto Pictures</td>\n",
       "      <td>17801.0</td>\n",
       "      <td>1</td>\n",
       "      <td>99.0</td>\n",
       "      <td>-0.075000</td>\n",
       "      <td>...</td>\n",
       "      <td>Eddie Constantine</td>\n",
       "      <td>Anna Karina</td>\n",
       "      <td>Akim Tamiroff</td>\n",
       "      <td>No Actor</td>\n",
       "      <td>Drama</td>\n",
       "      <td>Drama</td>\n",
       "      <td>Drama</td>\n",
       "      <td>Jean-Luc Godard</td>\n",
       "      <td>220000.0</td>\n",
       "      <td>0.0</td>\n",
       "    </tr>\n",
       "    <tr>\n",
       "      <th>3</th>\n",
       "      <td>tt0074252</td>\n",
       "      <td>Ugly, Dirty and Bad</td>\n",
       "      <td>R</td>\n",
       "      <td>7.9</td>\n",
       "      <td>55.749163</td>\n",
       "      <td>Compagnia Cinematografica Champion</td>\n",
       "      <td>5705.0</td>\n",
       "      <td>1</td>\n",
       "      <td>115.0</td>\n",
       "      <td>0.005682</td>\n",
       "      <td>...</td>\n",
       "      <td>Nino Manfredi</td>\n",
       "      <td>Maria Luisa Santella</td>\n",
       "      <td>Francesco Anniballi</td>\n",
       "      <td>Maria Bosco</td>\n",
       "      <td>Comedy</td>\n",
       "      <td>Comedy</td>\n",
       "      <td>Comedy</td>\n",
       "      <td>Ettore Scola</td>\n",
       "      <td>6590.0</td>\n",
       "      <td>0.0</td>\n",
       "    </tr>\n",
       "    <tr>\n",
       "      <th>4</th>\n",
       "      <td>tt0084269</td>\n",
       "      <td>Losing Ground</td>\n",
       "      <td>R</td>\n",
       "      <td>6.3</td>\n",
       "      <td>55.749163</td>\n",
       "      <td>Milestone Film &amp; Video</td>\n",
       "      <td>132.0</td>\n",
       "      <td>1</td>\n",
       "      <td>86.0</td>\n",
       "      <td>-0.055556</td>\n",
       "      <td>...</td>\n",
       "      <td>Billie Allen</td>\n",
       "      <td>Gary Bolling</td>\n",
       "      <td>Clarence Branch Jr.</td>\n",
       "      <td>Joe Garcia</td>\n",
       "      <td>Comedy</td>\n",
       "      <td>Comedy</td>\n",
       "      <td>Comedy</td>\n",
       "      <td>Kathleen Collins</td>\n",
       "      <td>0.0</td>\n",
       "      <td>0.0</td>\n",
       "    </tr>\n",
       "  </tbody>\n",
       "</table>\n",
       "<p>5 rows × 31 columns</p>\n",
       "</div>"
      ],
      "text/plain": [
       "    movie_id                        title movie_rating  rating_score  \\\n",
       "0  tt0010323  The Cabinet of Dr. Caligari      UNRATED           8.1   \n",
       "1  tt0052893          Hiroshima Mon Amour    NOT RATED           8.0   \n",
       "2  tt0058898                   Alphaville    NOT RATED           7.2   \n",
       "3  tt0074252          Ugly, Dirty and Bad            R           7.9   \n",
       "4  tt0084269                Losing Ground            R           6.3   \n",
       "\n",
       "   metacritic                          production  movie_votes  poster  \\\n",
       "0   55.749163                     Rialto Pictures      42583.0       1   \n",
       "1   55.749163                     Rialto Pictures      21154.0       1   \n",
       "2   55.749163                     Rialto Pictures      17801.0       1   \n",
       "3   55.749163  Compagnia Cinematografica Champion       5705.0       1   \n",
       "4   55.749163              Milestone Film & Video        132.0       1   \n",
       "\n",
       "   runtime  Plot Sentiment          ...                      Actor1  \\\n",
       "0     67.0        0.000000          ...               Werner Krauss   \n",
       "1     90.0        0.083333          ...             Emmanuelle Riva   \n",
       "2     99.0       -0.075000          ...           Eddie Constantine   \n",
       "3    115.0        0.005682          ...               Nino Manfredi   \n",
       "4     86.0       -0.055556          ...                Billie Allen   \n",
       "\n",
       "                  Actor2                Actor3           Actor4  \\\n",
       "0           Conrad Veidt       Friedrich Feher      Lil Dagover   \n",
       "1             Eiji Okada         Stella Dassas   Pierre Barbaud   \n",
       "2            Anna Karina         Akim Tamiroff         No Actor   \n",
       "3   Maria Luisa Santella   Francesco Anniballi      Maria Bosco   \n",
       "4           Gary Bolling   Clarence Branch Jr.       Joe Garcia   \n",
       "\n",
       "   Primary Genre  Secondary Genre  Tertiary Genre          Director    Budget  \\\n",
       "0        Fantasy          Fantasy         Fantasy      Robert Wiene   18000.0   \n",
       "1          Drama            Drama           Drama     Alain Resnais   88300.0   \n",
       "2          Drama            Drama           Drama   Jean-Luc Godard  220000.0   \n",
       "3         Comedy           Comedy          Comedy      Ettore Scola    6590.0   \n",
       "4         Comedy           Comedy          Comedy  Kathleen Collins       0.0   \n",
       "\n",
       "   Box Office Gross USD  \n",
       "0                   0.0  \n",
       "1                   0.0  \n",
       "2                   0.0  \n",
       "3                   0.0  \n",
       "4                   0.0  \n",
       "\n",
       "[5 rows x 31 columns]"
      ]
     },
     "execution_count": 63,
     "metadata": {},
     "output_type": "execute_result"
    }
   ],
   "source": [
    "df_movies.head()"
   ]
  },
  {
   "cell_type": "code",
   "execution_count": 64,
   "metadata": {},
   "outputs": [],
   "source": [
    "cat = []\n",
    "\n",
    "for i in df_movies.columns:\n",
    "    if df_movies[i].dtype == 'O':\n",
    "        cat.append(i)"
   ]
  },
  {
   "cell_type": "code",
   "execution_count": 65,
   "metadata": {},
   "outputs": [],
   "source": [
    "cat.extend(['Release Day Of Week', 'Release Month', 'Release Year'])"
   ]
  },
  {
   "cell_type": "code",
   "execution_count": 66,
   "metadata": {},
   "outputs": [
    {
     "data": {
      "text/plain": [
       "['movie_id',\n",
       " 'title',\n",
       " 'movie_rating',\n",
       " 'production',\n",
       " 'Actor1',\n",
       " 'Actor2',\n",
       " 'Actor3',\n",
       " 'Actor4',\n",
       " 'Primary Genre',\n",
       " 'Secondary Genre',\n",
       " 'Tertiary Genre',\n",
       " 'Director',\n",
       " 'Release Day Of Week',\n",
       " 'Release Month',\n",
       " 'Release Year']"
      ]
     },
     "execution_count": 66,
     "metadata": {},
     "output_type": "execute_result"
    }
   ],
   "source": [
    "cat"
   ]
  },
  {
   "cell_type": "code",
   "execution_count": 67,
   "metadata": {},
   "outputs": [],
   "source": [
    "df_movies['title'] = df_movies['title'].apply(lambda x: str(x))"
   ]
  },
  {
   "cell_type": "code",
   "execution_count": 68,
   "metadata": {},
   "outputs": [],
   "source": [
    "train_data = df_movies[df_movies['Box Office Gross USD'] != 0]\n",
    "\n",
    "test_data = df_movies[df_movies['Box Office Gross USD'] == 0]"
   ]
  },
  {
   "cell_type": "code",
   "execution_count": 71,
   "metadata": {},
   "outputs": [
    {
     "name": "stdout",
     "output_type": "stream",
     "text": [
      "Collecting category_encoders\n",
      "  Downloading https://files.pythonhosted.org/packages/f7/d3/82a4b85a87ece114f6d0139d643580c726efa45fa4db3b81aed38c0156c5/category_encoders-1.3.0-py2.py3-none-any.whl (61kB)\n",
      "Requirement already satisfied: scipy>=0.17.0 in d:\\program data\\anaconda3\\lib\\site-packages (from category_encoders) (1.1.0)\n",
      "Requirement already satisfied: numpy>=1.11.1 in d:\\program data\\anaconda3\\lib\\site-packages (from category_encoders) (1.14.3)\n",
      "Requirement already satisfied: patsy>=0.4.1 in d:\\program data\\anaconda3\\lib\\site-packages (from category_encoders) (0.5.0)\n",
      "Requirement already satisfied: pandas>=0.20.1 in d:\\program data\\anaconda3\\lib\\site-packages (from category_encoders) (0.23.0)\n",
      "Requirement already satisfied: statsmodels>=0.6.1 in d:\\program data\\anaconda3\\lib\\site-packages (from category_encoders) (0.9.0)\n",
      "Requirement already satisfied: scikit-learn>=0.17.1 in d:\\program data\\anaconda3\\lib\\site-packages (from category_encoders) (0.20.2)\n",
      "Requirement already satisfied: six in d:\\program data\\anaconda3\\lib\\site-packages (from patsy>=0.4.1->category_encoders) (1.11.0)\n",
      "Requirement already satisfied: pytz>=2011k in d:\\program data\\anaconda3\\lib\\site-packages (from pandas>=0.20.1->category_encoders) (2018.4)\n",
      "Requirement already satisfied: python-dateutil>=2.5.0 in d:\\program data\\anaconda3\\lib\\site-packages (from pandas>=0.20.1->category_encoders) (2.7.3)\n",
      "Installing collected packages: category-encoders\n",
      "Successfully installed category-encoders-1.3.0\n",
      "Encoding movie_id\n",
      "Encoding title\n",
      "Encoding movie_rating\n",
      "Encoding production\n",
      "Encoding Actor1\n",
      "Encoding Actor2\n",
      "Encoding Actor3\n",
      "Encoding Actor4\n",
      "Encoding Primary Genre\n",
      "Encoding Secondary Genre\n",
      "Encoding Tertiary Genre\n",
      "Encoding Director\n",
      "Encoding Release Day Of Week\n",
      "Encoding Release Month\n",
      "Encoding Release Year\n"
     ]
    },
    {
     "name": "stderr",
     "output_type": "stream",
     "text": [
      "You are using pip version 19.0.2, however version 19.0.3 is available.\n",
      "You should consider upgrading via the 'python -m pip install --upgrade pip' command.\n"
     ]
    }
   ],
   "source": [
    "!pip install category_encoders\n",
    "le = LabelEncoder()\n",
    "\n",
    "train = train_data.copy()\n",
    "test = test_data.copy()\n",
    "\n",
    "for i in cat:\n",
    "    print(\"Encoding\",i)\n",
    "    train[i] = le.fit_transform(train[i])\n",
    "    test[i] = le.fit_transform(test[i])\n",
    "    \n",
    "import category_encoders as ce\n",
    "\n",
    "encoder = ce.OrdinalEncoder(cols=['movie_rating','rating_score'])\n",
    "\n",
    "encoder.fit(train)\n",
    "train = encoder.transform(train)\n",
    "\n",
    "encoder.fit(test)\n",
    "test = encoder.transform(test)"
   ]
  },
  {
   "cell_type": "code",
   "execution_count": 72,
   "metadata": {},
   "outputs": [],
   "source": [
    "#df_movies['Box Office Gross USD'] = df_movies['Box Office Gross USD']\\\n",
    "#.apply(lambda x: df_movies['Box Office Gross USD'].mean() if x==0 else x)"
   ]
  },
  {
   "cell_type": "markdown",
   "metadata": {},
   "source": [
    "## Model Preparation"
   ]
  },
  {
   "cell_type": "code",
   "execution_count": 73,
   "metadata": {},
   "outputs": [],
   "source": [
    "from sklearn.tree import DecisionTreeRegressor\n",
    "from sklearn.ensemble import AdaBoostRegressor,BaggingRegressor,GradientBoostingRegressor,RandomForestRegressor\n",
    "from lightgbm import LGBMRegressor\n",
    "from xgboost import XGBRegressor\n",
    "\n",
    "from sklearn.linear_model import LinearRegression, Lasso, Ridge\n",
    "\n",
    "from sklearn.metrics import mean_squared_error,r2_score"
   ]
  },
  {
   "cell_type": "code",
   "execution_count": 74,
   "metadata": {},
   "outputs": [],
   "source": [
    "from sklearn.model_selection import train_test_split"
   ]
  },
  {
   "cell_type": "code",
   "execution_count": 75,
   "metadata": {},
   "outputs": [
    {
     "data": {
      "text/html": [
       "<div>\n",
       "<style scoped>\n",
       "    .dataframe tbody tr th:only-of-type {\n",
       "        vertical-align: middle;\n",
       "    }\n",
       "\n",
       "    .dataframe tbody tr th {\n",
       "        vertical-align: top;\n",
       "    }\n",
       "\n",
       "    .dataframe thead th {\n",
       "        text-align: right;\n",
       "    }\n",
       "</style>\n",
       "<table border=\"1\" class=\"dataframe\">\n",
       "  <thead>\n",
       "    <tr style=\"text-align: right;\">\n",
       "      <th></th>\n",
       "      <th>movie_id</th>\n",
       "      <th>title</th>\n",
       "      <th>movie_rating</th>\n",
       "      <th>rating_score</th>\n",
       "      <th>metacritic</th>\n",
       "      <th>production</th>\n",
       "      <th>movie_votes</th>\n",
       "      <th>poster</th>\n",
       "      <th>runtime</th>\n",
       "      <th>Plot Sentiment</th>\n",
       "      <th>...</th>\n",
       "      <th>Actor1</th>\n",
       "      <th>Actor2</th>\n",
       "      <th>Actor3</th>\n",
       "      <th>Actor4</th>\n",
       "      <th>Primary Genre</th>\n",
       "      <th>Secondary Genre</th>\n",
       "      <th>Tertiary Genre</th>\n",
       "      <th>Director</th>\n",
       "      <th>Budget</th>\n",
       "      <th>Box Office Gross USD</th>\n",
       "    </tr>\n",
       "  </thead>\n",
       "  <tbody>\n",
       "    <tr>\n",
       "      <th>139</th>\n",
       "      <td>38</td>\n",
       "      <td>82</td>\n",
       "      <td>1</td>\n",
       "      <td>1</td>\n",
       "      <td>65.0</td>\n",
       "      <td>103</td>\n",
       "      <td>358750.0</td>\n",
       "      <td>1</td>\n",
       "      <td>146.0</td>\n",
       "      <td>-0.100000</td>\n",
       "      <td>...</td>\n",
       "      <td>19</td>\n",
       "      <td>59</td>\n",
       "      <td>162</td>\n",
       "      <td>78</td>\n",
       "      <td>1</td>\n",
       "      <td>1</td>\n",
       "      <td>1</td>\n",
       "      <td>50</td>\n",
       "      <td>0.0</td>\n",
       "      <td>198000000.0</td>\n",
       "    </tr>\n",
       "    <tr>\n",
       "      <th>496</th>\n",
       "      <td>88</td>\n",
       "      <td>29</td>\n",
       "      <td>2</td>\n",
       "      <td>2</td>\n",
       "      <td>82.0</td>\n",
       "      <td>49</td>\n",
       "      <td>1673.0</td>\n",
       "      <td>1</td>\n",
       "      <td>114.0</td>\n",
       "      <td>0.000000</td>\n",
       "      <td>...</td>\n",
       "      <td>28</td>\n",
       "      <td>119</td>\n",
       "      <td>195</td>\n",
       "      <td>11</td>\n",
       "      <td>7</td>\n",
       "      <td>7</td>\n",
       "      <td>7</td>\n",
       "      <td>97</td>\n",
       "      <td>0.0</td>\n",
       "      <td>660000.0</td>\n",
       "    </tr>\n",
       "    <tr>\n",
       "      <th>621</th>\n",
       "      <td>96</td>\n",
       "      <td>218</td>\n",
       "      <td>2</td>\n",
       "      <td>3</td>\n",
       "      <td>76.0</td>\n",
       "      <td>24</td>\n",
       "      <td>4133.0</td>\n",
       "      <td>1</td>\n",
       "      <td>117.0</td>\n",
       "      <td>0.024716</td>\n",
       "      <td>...</td>\n",
       "      <td>66</td>\n",
       "      <td>186</td>\n",
       "      <td>15</td>\n",
       "      <td>84</td>\n",
       "      <td>4</td>\n",
       "      <td>4</td>\n",
       "      <td>4</td>\n",
       "      <td>117</td>\n",
       "      <td>0.0</td>\n",
       "      <td>11300000.0</td>\n",
       "    </tr>\n",
       "    <tr>\n",
       "      <th>756</th>\n",
       "      <td>108</td>\n",
       "      <td>174</td>\n",
       "      <td>1</td>\n",
       "      <td>4</td>\n",
       "      <td>29.0</td>\n",
       "      <td>60</td>\n",
       "      <td>419.0</td>\n",
       "      <td>1</td>\n",
       "      <td>85.0</td>\n",
       "      <td>0.500000</td>\n",
       "      <td>...</td>\n",
       "      <td>92</td>\n",
       "      <td>33</td>\n",
       "      <td>206</td>\n",
       "      <td>12</td>\n",
       "      <td>4</td>\n",
       "      <td>4</td>\n",
       "      <td>4</td>\n",
       "      <td>178</td>\n",
       "      <td>0.0</td>\n",
       "      <td>3051000.0</td>\n",
       "    </tr>\n",
       "    <tr>\n",
       "      <th>786</th>\n",
       "      <td>112</td>\n",
       "      <td>167</td>\n",
       "      <td>3</td>\n",
       "      <td>5</td>\n",
       "      <td>85.0</td>\n",
       "      <td>32</td>\n",
       "      <td>33478.0</td>\n",
       "      <td>1</td>\n",
       "      <td>93.0</td>\n",
       "      <td>0.078125</td>\n",
       "      <td>...</td>\n",
       "      <td>39</td>\n",
       "      <td>18</td>\n",
       "      <td>117</td>\n",
       "      <td>66</td>\n",
       "      <td>2</td>\n",
       "      <td>2</td>\n",
       "      <td>2</td>\n",
       "      <td>208</td>\n",
       "      <td>0.0</td>\n",
       "      <td>5989000.0</td>\n",
       "    </tr>\n",
       "  </tbody>\n",
       "</table>\n",
       "<p>5 rows × 31 columns</p>\n",
       "</div>"
      ],
      "text/plain": [
       "     movie_id  title  movie_rating  rating_score  metacritic  production  \\\n",
       "139        38     82             1             1        65.0         103   \n",
       "496        88     29             2             2        82.0          49   \n",
       "621        96    218             2             3        76.0          24   \n",
       "756       108    174             1             4        29.0          60   \n",
       "786       112    167             3             5        85.0          32   \n",
       "\n",
       "     movie_votes  poster  runtime  Plot Sentiment          ...           \\\n",
       "139     358750.0       1    146.0       -0.100000          ...            \n",
       "496       1673.0       1    114.0        0.000000          ...            \n",
       "621       4133.0       1    117.0        0.024716          ...            \n",
       "756        419.0       1     85.0        0.500000          ...            \n",
       "786      33478.0       1     93.0        0.078125          ...            \n",
       "\n",
       "     Actor1  Actor2  Actor3  Actor4  Primary Genre  Secondary Genre  \\\n",
       "139      19      59     162      78              1                1   \n",
       "496      28     119     195      11              7                7   \n",
       "621      66     186      15      84              4                4   \n",
       "756      92      33     206      12              4                4   \n",
       "786      39      18     117      66              2                2   \n",
       "\n",
       "     Tertiary Genre  Director  Budget  Box Office Gross USD  \n",
       "139               1        50     0.0           198000000.0  \n",
       "496               7        97     0.0              660000.0  \n",
       "621               4       117     0.0            11300000.0  \n",
       "756               4       178     0.0             3051000.0  \n",
       "786               2       208     0.0             5989000.0  \n",
       "\n",
       "[5 rows x 31 columns]"
      ]
     },
     "execution_count": 75,
     "metadata": {},
     "output_type": "execute_result"
    }
   ],
   "source": [
    "train.head()"
   ]
  },
  {
   "cell_type": "code",
   "execution_count": 97,
   "metadata": {},
   "outputs": [],
   "source": [
    "#X = df_movies.drop(['Box Office Gross USD','Budget'],axis=1)\n",
    "#y = df_movies['Box Office Gross USD']\n",
    "\n",
    "X = train.drop(['Box Office Gross USD'],axis=1)\n",
    "y = np.log1p(train['Box Office Gross USD'])"
   ]
  },
  {
   "cell_type": "code",
   "execution_count": 98,
   "metadata": {},
   "outputs": [],
   "source": [
    "X_train, X_test, y_train, y_test = train_test_split(X, y, test_size=0.3, random_state=42)"
   ]
  },
  {
   "cell_type": "code",
   "execution_count": 99,
   "metadata": {},
   "outputs": [],
   "source": [
    "def score(clf, x_tr = X_train, y_tr = y_train, x_tst = X_test, y_tst = y_test,imp = True):\n",
    "    \n",
    "    clf.fit(x_tr,y_tr)\n",
    "    \n",
    "    pred = clf.predict(x_tst)\n",
    "    \n",
    "    print(\"R-Squared is:\\t\",r2_score(y_tst,pred))\n",
    "    print(\"\\n\" + \"*\"*50+\"\\n\")\n",
    "    print(\"RMSE:\\t\",np.sqrt(mean_squared_error(y_tst,pred)))\n",
    "    \n",
    "    if imp == True:\n",
    "        feat_imp = pd.DataFrame(clf.feature_importances_,index=X.columns,columns=['Feature Importance'])\n",
    "        top_feat = feat_imp.sort_values('Feature Importance',ascending=False).index[0:10]\n",
    "    \n",
    "        print(\"\\n\" + \"*\"*50+\"\\n\")\n",
    "        print(\"Top 10 most important features:\\n\",top_feat)\n",
    "        print(\"\\n\" + \"*\"*50+\"\\n\")\n",
    "        print(\"Feature Importances:\\n\",feat_imp)\n",
    "        \n",
    "        return feat_imp\n",
    "        \n",
    "        \n",
    "def rmse_cv(model):\n",
    "    rmse= np.sqrt(-cross_val_score(model, X_test, y_test, scoring=\"neg_mean_squared_error\", cv = 10))\n",
    "    return(rmse)"
   ]
  },
  {
   "cell_type": "code",
   "execution_count": null,
   "metadata": {},
   "outputs": [],
   "source": []
  },
  {
   "cell_type": "code",
   "execution_count": 79,
   "metadata": {},
   "outputs": [],
   "source": [
    "rf = RandomForestRegressor(n_estimators=1500)\n",
    "dtree = DecisionTreeRegressor()\n",
    "adb = AdaBoostRegressor(n_estimators=1500)\n",
    "br = BaggingRegressor(n_estimators=1500)\n",
    "gbr = GradientBoostingRegressor(n_estimators=1500)\n",
    "xgb = XGBRegressor(n_estimators=1500)\n",
    "lgbm = LGBMRegressor(n_estimators=1500)\n",
    "\n",
    "lr = LinearRegression()\n",
    "lasso = Lasso()\n",
    "ridge = Ridge()"
   ]
  },
  {
   "cell_type": "code",
   "execution_count": 80,
   "metadata": {},
   "outputs": [],
   "source": [
    "models = [{'label': 'Random Forest', 'model': rf}, {'label': 'Decision Tree', 'model': dtree}, \n",
    "          {'label': 'Adaboost', 'model': adb}, {'label': 'Bagging Regressor', 'model': br}, \n",
    "          {'label': 'Gradient Boosting Regressor', 'model': gbr}, {'label': 'XGBoost', 'model': xgb}, \n",
    "          {'label': 'Light GBM', 'model': lgbm}, {'label': 'Linear Regression', 'model': lr}, \n",
    "          {'label': 'Lasso', 'model': lasso}, {'label': 'Ridge', 'model': ridge}]"
   ]
  },
  {
   "cell_type": "code",
   "execution_count": 81,
   "metadata": {},
   "outputs": [
    {
     "name": "stdout",
     "output_type": "stream",
     "text": [
      "Training and calculating metrics for Random Forest\n",
      "\n",
      "R-Squared is:\t 0.7749578518278947\n",
      "\n",
      "**************************************************\n",
      "\n",
      "RMSE:\t 1.5486783177085444\n",
      "\n",
      "**************************************************\n",
      "\n",
      "Training and calculating metrics for Decision Tree\n",
      "\n",
      "R-Squared is:\t 0.34557751068548315\n",
      "\n",
      "**************************************************\n",
      "\n",
      "RMSE:\t 2.6409391419708093\n",
      "\n",
      "**************************************************\n",
      "\n",
      "Training and calculating metrics for Adaboost\n",
      "\n",
      "R-Squared is:\t 0.7644915853712377\n",
      "\n",
      "**************************************************\n",
      "\n",
      "RMSE:\t 1.584282044363886\n",
      "\n",
      "**************************************************\n",
      "\n",
      "Training and calculating metrics for Bagging Regressor\n",
      "\n",
      "R-Squared is:\t 0.7767946316675517\n",
      "\n",
      "**************************************************\n",
      "\n",
      "RMSE:\t 1.5423452612855801\n",
      "\n",
      "**************************************************\n",
      "\n",
      "Training and calculating metrics for Gradient Boosting Regressor\n",
      "\n",
      "R-Squared is:\t 0.7339859574542564\n",
      "\n",
      "**************************************************\n",
      "\n",
      "RMSE:\t 1.6837653469523446\n",
      "\n",
      "**************************************************\n",
      "\n",
      "Training and calculating metrics for XGBoost\n",
      "\n",
      "R-Squared is:\t 0.722717037444387\n",
      "\n",
      "**************************************************\n",
      "\n",
      "RMSE:\t 1.7190593799561356\n",
      "\n",
      "**************************************************\n",
      "\n",
      "Training and calculating metrics for Light GBM\n",
      "\n",
      "R-Squared is:\t 0.6371025724523838\n",
      "\n",
      "**************************************************\n",
      "\n",
      "RMSE:\t 1.9666235274086996\n",
      "\n",
      "**************************************************\n",
      "\n",
      "Training and calculating metrics for Linear Regression\n",
      "\n",
      "R-Squared is:\t 0.6548497387713077\n",
      "\n",
      "**************************************************\n",
      "\n",
      "RMSE:\t 1.917932810818332\n",
      "\n",
      "**************************************************\n",
      "\n",
      "Training and calculating metrics for Lasso\n",
      "\n",
      "R-Squared is:\t 0.599290215697289\n",
      "\n",
      "**************************************************\n",
      "\n",
      "RMSE:\t 2.0665421088884757\n",
      "\n",
      "**************************************************\n",
      "\n",
      "Training and calculating metrics for Ridge\n",
      "\n",
      "R-Squared is:\t 0.6543436369335215\n",
      "\n",
      "**************************************************\n",
      "\n",
      "RMSE:\t 1.9193384504211457\n",
      "\n",
      "**************************************************\n",
      "\n"
     ]
    }
   ],
   "source": [
    "rmse_dict = {}\n",
    "r2_dict = {}\n",
    "for m in models:\n",
    "      \n",
    "    print(\"Training and calculating metrics for\",m['label'])\n",
    "    print()\n",
    "    if m['label'] == 'XGBoost':\n",
    "        score(m['model'],x_tr=np.array(X_train),y_tr=np.array(y_train).reshape(-1,1),x_tst=np.array(X_test),\n",
    "              y_tst=np.array(y_test).reshape(-1,1),imp=False)\n",
    "        rmse_dict[m['label']] = rmse_cv(m['model']).mean()\n",
    "        r2_dict[m['label']] = r2_score(y_test,m['model'].predict(np.array(X_test)))\n",
    "    else:\n",
    "        score(m['model'],imp=False)\n",
    "        rmse_dict[m['label']] = rmse_cv(m['model']).mean()\n",
    "        r2_dict[m['label']] = r2_score(y_test,m['model'].predict(X_test))\n",
    "    print(\"\\n\"+\"*\"*50+\"\\n\")"
   ]
  },
  {
   "cell_type": "code",
   "execution_count": 82,
   "metadata": {},
   "outputs": [
    {
     "data": {
      "text/plain": [
       "<matplotlib.axes._subplots.AxesSubplot at 0x23d04d49208>"
      ]
     },
     "execution_count": 82,
     "metadata": {},
     "output_type": "execute_result"
    },
    {
     "data": {
      "image/png": "[encoded data removed]",
      "text/plain": [
       "<Figure size 432x288 with 1 Axes>"
      ]
     },
     "metadata": {},
     "output_type": "display_data"
    }
   ],
   "source": [
    "rmse = pd.DataFrame(pd.Series(rmse_dict,index=rmse_dict.keys()),columns=['RMSE'])\n",
    "r2 = pd.DataFrame(pd.Series(r2_dict,index=r2_dict.keys()),columns=['R-squared'])\n",
    "\n",
    "results = pd.concat([r2,rmse],axis=1).sort_values(by='RMSE')\n",
    "results.plot.bar(legend = True, title = 'RMSE')"
   ]
  },
  {
   "cell_type": "code",
   "execution_count": 83,
   "metadata": {},
   "outputs": [],
   "source": [
    "pred_gross = br.predict(test.drop(['Box Office Gross USD','Budget'],axis=1))"
   ]
  },
  {
   "cell_type": "code",
   "execution_count": 84,
   "metadata": {},
   "outputs": [
    {
     "name": "stderr",
     "output_type": "stream",
     "text": [
      "D:\\Program Data\\Anaconda3\\lib\\site-packages\\ipykernel_launcher.py:1: SettingWithCopyWarning: \n",
      "A value is trying to be set on a copy of a slice from a DataFrame.\n",
      "Try using .loc[row_indexer,col_indexer] = value instead\n",
      "\n",
      "See the caveats in the documentation: http://pandas.pydata.org/pandas-docs/stable/indexing.html#indexing-view-versus-copy\n",
      "  \"\"\"Entry point for launching an IPython kernel.\n"
     ]
    }
   ],
   "source": [
    "test_data['Box Office Gross USD'] = np.expm1(pred_gross)"
   ]
  },
  {
   "cell_type": "code",
   "execution_count": 85,
   "metadata": {},
   "outputs": [],
   "source": [
    "final_data = pd.concat([train_data,test_data])\n",
    "\n",
    "final_data.to_csv('final_data.csv')"
   ]
  },
  {
   "cell_type": "code",
   "execution_count": null,
   "metadata": {},
   "outputs": [],
   "source": []
  },
  {
   "cell_type": "code",
   "execution_count": null,
   "metadata": {},
   "outputs": [],
   "source": []
  },
  {
   "cell_type": "code",
   "execution_count": 100,
   "metadata": {},
   "outputs": [
    {
     "name": "stdout",
     "output_type": "stream",
     "text": [
      "R-Squared is:\t 0.763220131503663\n",
      "\n",
      "**************************************************\n",
      "\n",
      "RMSE:\t 1.5885528686408883\n",
      "\n",
      "**************************************************\n",
      "\n",
      "Top 10 most important features:\n",
      " Index(['poster', 'movie_id', 'Primary Genre', 'Tertiary Genre',\n",
      "       'Secondary Genre', 'runtime', 'title', 'Same Day Movies',\n",
      "       'Release Day Of Week', 'Normal_Nominations'],\n",
      "      dtype='object')\n",
      "\n",
      "**************************************************\n",
      "\n",
      "Feature Importances:\n",
      "                          Feature Importance\n",
      "movie_id                           0.110397\n",
      "title                              0.049152\n",
      "movie_rating                       0.012020\n",
      "rating_score                       0.005916\n",
      "metacritic                         0.015143\n",
      "production                         0.006261\n",
      "movie_votes                        0.037516\n",
      "poster                             0.149390\n",
      "runtime                            0.061798\n",
      "Plot Sentiment                     0.005489\n",
      "Oscar_Won                          0.000000\n",
      "Oscar_Nominations                  0.000054\n",
      "Normal_Wins                        0.001945\n",
      "Normal_Nominations                 0.039519\n",
      "GoldenGlobe_Nominations            0.000007\n",
      "GoldenGlobe_Wins                   0.000000\n",
      "Earning Days                       0.023715\n",
      "Release Day Of Week                0.041127\n",
      "Release Month                      0.003293\n",
      "Release Year                       0.005597\n",
      "Same Day Movies                    0.048434\n",
      "Actor1                             0.036474\n",
      "Actor2                             0.016435\n",
      "Actor3                             0.029731\n",
      "Actor4                             0.029286\n",
      "Primary Genre                      0.084485\n",
      "Secondary Genre                    0.071855\n",
      "Tertiary Genre                     0.076338\n",
      "Director                           0.038622\n",
      "Budget                             0.000000\n"
     ]
    }
   ],
   "source": [
    "feat_imp = score(adb)"
   ]
  },
  {
   "cell_type": "code",
   "execution_count": 101,
   "metadata": {},
   "outputs": [
    {
     "data": {
      "text/plain": [
       "<matplotlib.axes._subplots.AxesSubplot at 0x23d049670f0>"
      ]
     },
     "execution_count": 101,
     "metadata": {},
     "output_type": "execute_result"
    },
    {
     "data": {
      "image/png": "[encoded data removed]",
      "text/plain": [
       "<Figure size 1296x720 with 1 Axes>"
      ]
     },
     "metadata": {},
     "output_type": "display_data"
    }
   ],
   "source": [
    "from pylab import rcParams\n",
    "\n",
    "rcParams['figure.figsize'] = 18,10\n",
    "feat_imp.plot.bar(title=\"Feature Importances\",legend=False)"
   ]
  },
  {
   "cell_type": "code",
   "execution_count": null,
   "metadata": {},
   "outputs": [],
   "source": []
  }
 ],
 "metadata": {
  "kernelspec": {
   "display_name": "Python 3",
   "language": "python",
   "name": "python3"
  },
  "language_info": {
   "codemirror_mode": {
    "name": "ipython",
    "version": 3
   },
   "file_extension": ".py",
   "mimetype": "text/x-python",
   "name": "python",
   "nbconvert_exporter": "python",
   "pygments_lexer": "ipython3",
   "version": "3.6.5"
  }
 },
 "nbformat": 4,
 "nbformat_minor": 2
}
