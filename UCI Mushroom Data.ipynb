{
 "cells": [
  {
   "cell_type": "code",
   "execution_count": 49,
   "metadata": {},
   "outputs": [],
   "source": [
    "import pandas as pd\n",
    "import seaborn as sns\n",
    "import numpy as np\n",
    "import matplotlib.pyplot as plt"
   ]
  },
  {
   "cell_type": "code",
   "execution_count": 50,
   "metadata": {},
   "outputs": [],
   "source": [
    "data=pd.read_csv('mushrooms.csv')"
   ]
  },
  {
   "cell_type": "code",
   "execution_count": 110,
   "metadata": {},
   "outputs": [
    {
     "data": {
      "text/plain": [
       "(8124, 23)"
      ]
     },
     "execution_count": 110,
     "metadata": {},
     "output_type": "execute_result"
    }
   ],
   "source": [
    "data.shape"
   ]
  },
  {
   "cell_type": "code",
   "execution_count": 51,
   "metadata": {},
   "outputs": [
    {
     "data": {
      "text/html": [
       "<div>\n",
       "<style scoped>\n",
       "    .dataframe tbody tr th:only-of-type {\n",
       "        vertical-align: middle;\n",
       "    }\n",
       "\n",
       "    .dataframe tbody tr th {\n",
       "        vertical-align: top;\n",
       "    }\n",
       "\n",
       "    .dataframe thead th {\n",
       "        text-align: right;\n",
       "    }\n",
       "</style>\n",
       "<table border=\"1\" class=\"dataframe\">\n",
       "  <thead>\n",
       "    <tr style=\"text-align: right;\">\n",
       "      <th></th>\n",
       "      <th>class</th>\n",
       "      <th>cap-shape</th>\n",
       "      <th>cap-surface</th>\n",
       "      <th>cap-color</th>\n",
       "      <th>bruises</th>\n",
       "      <th>odor</th>\n",
       "      <th>gill-attachment</th>\n",
       "      <th>gill-spacing</th>\n",
       "      <th>gill-size</th>\n",
       "      <th>gill-color</th>\n",
       "      <th>...</th>\n",
       "      <th>stalk-surface-below-ring</th>\n",
       "      <th>stalk-color-above-ring</th>\n",
       "      <th>stalk-color-below-ring</th>\n",
       "      <th>veil-type</th>\n",
       "      <th>veil-color</th>\n",
       "      <th>ring-number</th>\n",
       "      <th>ring-type</th>\n",
       "      <th>spore-print-color</th>\n",
       "      <th>population</th>\n",
       "      <th>habitat</th>\n",
       "    </tr>\n",
       "  </thead>\n",
       "  <tbody>\n",
       "    <tr>\n",
       "      <th>0</th>\n",
       "      <td>p</td>\n",
       "      <td>x</td>\n",
       "      <td>s</td>\n",
       "      <td>n</td>\n",
       "      <td>t</td>\n",
       "      <td>p</td>\n",
       "      <td>f</td>\n",
       "      <td>c</td>\n",
       "      <td>n</td>\n",
       "      <td>k</td>\n",
       "      <td>...</td>\n",
       "      <td>s</td>\n",
       "      <td>w</td>\n",
       "      <td>w</td>\n",
       "      <td>p</td>\n",
       "      <td>w</td>\n",
       "      <td>o</td>\n",
       "      <td>p</td>\n",
       "      <td>k</td>\n",
       "      <td>s</td>\n",
       "      <td>u</td>\n",
       "    </tr>\n",
       "    <tr>\n",
       "      <th>1</th>\n",
       "      <td>e</td>\n",
       "      <td>x</td>\n",
       "      <td>s</td>\n",
       "      <td>y</td>\n",
       "      <td>t</td>\n",
       "      <td>a</td>\n",
       "      <td>f</td>\n",
       "      <td>c</td>\n",
       "      <td>b</td>\n",
       "      <td>k</td>\n",
       "      <td>...</td>\n",
       "      <td>s</td>\n",
       "      <td>w</td>\n",
       "      <td>w</td>\n",
       "      <td>p</td>\n",
       "      <td>w</td>\n",
       "      <td>o</td>\n",
       "      <td>p</td>\n",
       "      <td>n</td>\n",
       "      <td>n</td>\n",
       "      <td>g</td>\n",
       "    </tr>\n",
       "    <tr>\n",
       "      <th>2</th>\n",
       "      <td>e</td>\n",
       "      <td>b</td>\n",
       "      <td>s</td>\n",
       "      <td>w</td>\n",
       "      <td>t</td>\n",
       "      <td>l</td>\n",
       "      <td>f</td>\n",
       "      <td>c</td>\n",
       "      <td>b</td>\n",
       "      <td>n</td>\n",
       "      <td>...</td>\n",
       "      <td>s</td>\n",
       "      <td>w</td>\n",
       "      <td>w</td>\n",
       "      <td>p</td>\n",
       "      <td>w</td>\n",
       "      <td>o</td>\n",
       "      <td>p</td>\n",
       "      <td>n</td>\n",
       "      <td>n</td>\n",
       "      <td>m</td>\n",
       "    </tr>\n",
       "    <tr>\n",
       "      <th>3</th>\n",
       "      <td>p</td>\n",
       "      <td>x</td>\n",
       "      <td>y</td>\n",
       "      <td>w</td>\n",
       "      <td>t</td>\n",
       "      <td>p</td>\n",
       "      <td>f</td>\n",
       "      <td>c</td>\n",
       "      <td>n</td>\n",
       "      <td>n</td>\n",
       "      <td>...</td>\n",
       "      <td>s</td>\n",
       "      <td>w</td>\n",
       "      <td>w</td>\n",
       "      <td>p</td>\n",
       "      <td>w</td>\n",
       "      <td>o</td>\n",
       "      <td>p</td>\n",
       "      <td>k</td>\n",
       "      <td>s</td>\n",
       "      <td>u</td>\n",
       "    </tr>\n",
       "  </tbody>\n",
       "</table>\n",
       "<p>4 rows × 23 columns</p>\n",
       "</div>"
      ],
      "text/plain": [
       "  class cap-shape cap-surface cap-color bruises odor gill-attachment  \\\n",
       "0     p         x           s         n       t    p               f   \n",
       "1     e         x           s         y       t    a               f   \n",
       "2     e         b           s         w       t    l               f   \n",
       "3     p         x           y         w       t    p               f   \n",
       "\n",
       "  gill-spacing gill-size gill-color   ...   stalk-surface-below-ring  \\\n",
       "0            c         n          k   ...                          s   \n",
       "1            c         b          k   ...                          s   \n",
       "2            c         b          n   ...                          s   \n",
       "3            c         n          n   ...                          s   \n",
       "\n",
       "  stalk-color-above-ring stalk-color-below-ring veil-type veil-color  \\\n",
       "0                      w                      w         p          w   \n",
       "1                      w                      w         p          w   \n",
       "2                      w                      w         p          w   \n",
       "3                      w                      w         p          w   \n",
       "\n",
       "  ring-number ring-type spore-print-color population habitat  \n",
       "0           o         p                 k          s       u  \n",
       "1           o         p                 n          n       g  \n",
       "2           o         p                 n          n       m  \n",
       "3           o         p                 k          s       u  \n",
       "\n",
       "[4 rows x 23 columns]"
      ]
     },
     "execution_count": 51,
     "metadata": {},
     "output_type": "execute_result"
    }
   ],
   "source": [
    "data.head(4)"
   ]
  },
  {
   "cell_type": "code",
   "execution_count": 53,
   "metadata": {},
   "outputs": [
    {
     "data": {
      "text/plain": [
       "<matplotlib.axes._subplots.AxesSubplot at 0x2aad22166d8>"
      ]
     },
     "execution_count": 53,
     "metadata": {},
     "output_type": "execute_result"
    },
    {
     "data": {
      "image/png": "[encoded data removed]",
      "text/plain": [
       "<Figure size 720x1080 with 4 Axes>"
      ]
     },
     "metadata": {
      "needs_background": "light"
     },
     "output_type": "display_data"
    }
   ],
   "source": [
    "fig, axs = plt.subplots(4,figsize=(10,15))\n",
    "sns.countplot(data=data,x='stalk-shape',ax=axs[0],hue='class')\n",
    "sns.countplot(data=data,x='stalk-root',ax=axs[1],hue='class')\n",
    "sns.countplot(data=data,x='cap-shape',ax=axs[2],hue='class')\n",
    "sns.countplot(data=data,x='habitat',ax=axs[3],hue='class')\n"
   ]
  },
  {
   "cell_type": "markdown",
   "metadata": {},
   "source": [
    "As you can see the mushrooms on p have more chance of being poisnous(Last Bar Plot)\n"
   ]
  },
  {
   "cell_type": "code",
   "execution_count": 54,
   "metadata": {},
   "outputs": [
    {
     "data": {
      "text/plain": [
       "array(['p', 'e'], dtype=object)"
      ]
     },
     "execution_count": 54,
     "metadata": {},
     "output_type": "execute_result"
    }
   ],
   "source": [
    "data['class'].unique()"
   ]
  },
  {
   "cell_type": "code",
   "execution_count": 55,
   "metadata": {},
   "outputs": [
    {
     "name": "stdout",
     "output_type": "stream",
     "text": [
      "(8124, 23)\n"
     ]
    }
   ],
   "source": [
    "print(data.shape)"
   ]
  },
  {
   "cell_type": "markdown",
   "metadata": {},
   "source": [
    "Since all the values are strings we can convert into integer using Label Encoder."
   ]
  },
  {
   "cell_type": "code",
   "execution_count": 56,
   "metadata": {},
   "outputs": [
    {
     "name": "stdout",
     "output_type": "stream",
     "text": [
      "class\n",
      "e    4208\n",
      "p    3916\n",
      "dtype: int64\n"
     ]
    }
   ],
   "source": [
    "print(data.groupby('class').size())"
   ]
  },
  {
   "cell_type": "code",
   "execution_count": 57,
   "metadata": {},
   "outputs": [
    {
     "data": {
      "text/plain": [
       "Index(['class', 'cap-shape', 'cap-surface', 'cap-color', 'bruises', 'odor',\n",
       "       'gill-attachment', 'gill-spacing', 'gill-size', 'gill-color',\n",
       "       'stalk-shape', 'stalk-root', 'stalk-surface-above-ring',\n",
       "       'stalk-surface-below-ring', 'stalk-color-above-ring',\n",
       "       'stalk-color-below-ring', 'veil-type', 'veil-color', 'ring-number',\n",
       "       'ring-type', 'spore-print-color', 'population', 'habitat'],\n",
       "      dtype='object')"
      ]
     },
     "execution_count": 57,
     "metadata": {},
     "output_type": "execute_result"
    }
   ],
   "source": [
    "data.columns"
   ]
  },
  {
   "cell_type": "code",
   "execution_count": 96,
   "metadata": {},
   "outputs": [],
   "source": [
    "from sklearn.preprocessing import LabelEncoder\n",
    "labelencoder=LabelEncoder()\n",
    "for col in data.columns:\n",
    "    data[col]=labelencoder.fit_transform(data[col])"
   ]
  },
  {
   "cell_type": "code",
   "execution_count": 59,
   "metadata": {},
   "outputs": [
    {
     "data": {
      "text/plain": [
       "class\n",
       "0    4208\n",
       "1    3916\n",
       "dtype: int64"
      ]
     },
     "execution_count": 59,
     "metadata": {},
     "output_type": "execute_result"
    }
   ],
   "source": [
    "data.groupby('class').size()"
   ]
  },
  {
   "cell_type": "code",
   "execution_count": 62,
   "metadata": {},
   "outputs": [],
   "source": [
    "X=data.iloc[:,1:23]\n",
    "y=data.iloc[:,0]"
   ]
  },
  {
   "cell_type": "code",
   "execution_count": 68,
   "metadata": {},
   "outputs": [
    {
     "data": {
      "text/plain": [
       "array([[ 1.02971224,  0.14012794, -0.19824983, ..., -0.67019486,\n",
       "        -0.5143892 ,  2.03002809],\n",
       "       [ 1.02971224,  0.14012794,  1.76587407, ..., -0.2504706 ,\n",
       "        -1.31310821, -0.29572966],\n",
       "       [-2.08704716,  0.14012794,  1.37304929, ..., -0.2504706 ,\n",
       "        -1.31310821,  0.86714922],\n",
       "       ...,\n",
       "       [-0.8403434 ,  0.14012794, -0.19824983, ..., -1.50964337,\n",
       "        -2.11182722,  0.28570978],\n",
       "       [-0.21699152,  0.95327039, -0.19824983, ...,  1.42842641,\n",
       "         0.28432981,  0.28570978],\n",
       "       [ 1.02971224,  0.14012794, -0.19824983, ...,  0.16925365,\n",
       "        -2.11182722,  0.28570978]])"
      ]
     },
     "execution_count": 68,
     "metadata": {},
     "output_type": "execute_result"
    }
   ],
   "source": [
    "from sklearn.preprocessing import StandardScaler\n",
    "scaler=StandardScaler()\n",
    "X=scaler.fit_transform(X)\n",
    "X"
   ]
  },
  {
   "cell_type": "code",
   "execution_count": 69,
   "metadata": {},
   "outputs": [
    {
     "data": {
      "text/plain": [
       "array([[-5.74321902e-01, -9.75781349e-01, -1.22176154e+00, ...,\n",
       "        -2.08581362e-01,  8.13996758e-03, -4.50716667e-18],\n",
       "       [-2.28210230e+00,  2.79066333e-01, -1.20049669e+00, ...,\n",
       "         1.52238789e-01, -1.96446132e-01,  1.23279887e-17],\n",
       "       [-1.85803562e+00, -2.70972362e-01, -1.37237069e+00, ...,\n",
       "         2.57581784e-01, -3.62577199e-01,  5.46884410e-18],\n",
       "       ...,\n",
       "       [-1.62151632e+00, -7.57536709e-01,  2.73357994e+00, ...,\n",
       "        -1.42532241e+00,  6.36990122e-01,  1.98576179e-19],\n",
       "       [ 3.67060561e+00, -1.03277450e+00,  1.68459501e-01, ...,\n",
       "         9.41440123e-02, -6.43462238e-02, -1.12807637e-20],\n",
       "       [-1.57520272e+00, -1.22858140e+00,  2.44722789e+00, ...,\n",
       "        -8.04626064e-01,  5.90315263e-01,  2.10565821e-20]])"
      ]
     },
     "execution_count": 69,
     "metadata": {},
     "output_type": "execute_result"
    }
   ],
   "source": [
    "from sklearn.decomposition import PCA\n",
    "pca=PCA()\n",
    "pca.fit_transform(X)"
   ]
  },
  {
   "cell_type": "code",
   "execution_count": 71,
   "metadata": {},
   "outputs": [
    {
     "data": {
      "text/plain": [
       "array([[ 1.00012311e+00, -5.04598689e-02, -4.82087723e-02,\n",
       "        -3.53784857e-02, -2.19379500e-02,  7.88747759e-02,\n",
       "         1.31976727e-02,  5.40569473e-02, -6.03950664e-03,\n",
       "         6.38020697e-02,  3.01947722e-02, -3.04209144e-02,\n",
       "        -3.25951166e-02, -3.16631918e-02, -3.03935589e-02,\n",
       "         4.49848884e-18,  7.25693997e-02, -1.06546915e-01,\n",
       "        -2.54597238e-02, -7.34245762e-02,  6.34209571e-02,\n",
       "        -4.22261061e-02],\n",
       "       [-5.04598689e-02,  1.00012311e+00, -1.94041011e-02,\n",
       "         7.02370673e-02,  4.52388718e-02, -3.41840973e-02,\n",
       "        -2.82340541e-01,  2.08125459e-01, -1.61037318e-01,\n",
       "        -1.41243642e-02, -1.26260048e-01,  8.91013054e-02,\n",
       "         1.07977800e-01,  6.60584116e-02,  6.88933788e-02,\n",
       "        -8.36594750e-18, -1.66054596e-02, -2.61503505e-02,\n",
       "        -1.06420046e-01,  2.30392413e-01,  2.15577812e-02,\n",
       "         1.63906824e-01],\n",
       "       [-4.82087723e-02, -1.94041011e-02,  1.00012311e+00,\n",
       "        -7.64543349e-04, -3.87168603e-01,  4.14406892e-02,\n",
       "         1.44276732e-01, -1.69485147e-01,  8.46695047e-02,\n",
       "        -4.56552233e-01,  3.21313414e-01, -6.08445542e-02,\n",
       "        -4.77160873e-02,  2.36450597e-03,  8.05839976e-03,\n",
       "         1.51916543e-17,  3.61339733e-02, -5.82319895e-03,\n",
       "         1.62532702e-01, -2.93558839e-01, -1.44787408e-01,\n",
       "         3.39294134e-02],\n",
       "       [-3.53784857e-02,  7.02370673e-02, -7.64543349e-04,\n",
       "         1.00012311e+00, -6.18328186e-02,  1.37376026e-01,\n",
       "        -2.99509814e-01, -3.69641284e-01,  5.27184439e-01,\n",
       "         9.93764545e-02,  2.44218301e-01,  4.60880601e-01,\n",
       "         4.59039336e-01,  8.35482468e-02,  9.28850828e-02,\n",
       "         2.74977343e-17,  1.19784245e-01,  5.67945589e-02,\n",
       "         6.93058228e-01, -2.85043366e-01,  8.81480775e-02,\n",
       "        -7.51046406e-02],\n",
       "       [-2.19379500e-02,  4.52388718e-02, -3.87168603e-01,\n",
       "        -6.18328186e-02,  1.00012311e+00, -5.95973903e-02,\n",
       "         6.39437880e-02,  3.10533260e-01, -1.29229088e-01,\n",
       "         4.59822266e-01, -2.05240176e-01,  1.18631813e-01,\n",
       "         6.18280280e-02,  1.74553597e-01,  1.69427362e-01,\n",
       "         1.08442237e-17, -5.77538115e-02,  1.11919054e-01,\n",
       "        -2.81421921e-01,  4.69112992e-01, -4.36280625e-02,\n",
       "        -2.66137167e-02],\n",
       "       [ 7.88747759e-02, -3.41840973e-02,  4.14406892e-02,\n",
       "         1.37376026e-01, -5.95973903e-02,  1.00012311e+00,\n",
       "         7.14981301e-02,  1.08997383e-01, -1.28582826e-01,\n",
       "         1.86507752e-01,  1.44081071e-01, -8.89271522e-02,\n",
       "        -1.16191008e-01,  9.93113293e-02,  9.71720273e-02,\n",
       "        -1.04852147e-17,  8.97628565e-01,  9.32476913e-02,\n",
       "        -1.46706814e-01, -2.95279278e-02,  1.65595040e-01,\n",
       "        -3.03080818e-02],\n",
       "       [ 1.31976727e-02, -2.82340541e-01,  1.44276732e-01,\n",
       "        -2.99509814e-01,  6.39437880e-02,  7.14981301e-02,\n",
       "         1.00012311e+00, -1.08346316e-01,  1.00205379e-01,\n",
       "         8.09054437e-02,  3.50590712e-01, -2.12385384e-01,\n",
       "        -2.13801040e-01,  2.74607907e-01,  2.53536172e-01,\n",
       "         7.22432145e-18,  7.33717775e-02,  2.43043501e-01,\n",
       "        -1.95921306e-01,  4.73287503e-02, -5.29318453e-01,\n",
       "        -1.54698927e-01],\n",
       "       [ 5.40569473e-02,  2.08125459e-01, -1.69485147e-01,\n",
       "        -3.69641284e-01,  3.10533260e-01,  1.08997383e-01,\n",
       "        -1.08346316e-01,  1.00012311e+00, -5.16799759e-01,\n",
       "         2.14602621e-01, -3.44387697e-01,  5.63170442e-02,\n",
       "         1.08952390e-02,  2.96584725e-01,  2.78741931e-01,\n",
       "        -2.24020141e-18,  1.03821520e-01, -1.71383043e-01,\n",
       "        -4.60928830e-01,  6.23067423e-01,  1.47700046e-01,\n",
       "         1.61437773e-01],\n",
       "       [-6.03950664e-03, -1.61037318e-01,  8.46695047e-02,\n",
       "         5.27184439e-01, -1.29229088e-01, -1.28582826e-01,\n",
       "         1.00205379e-01, -5.16799759e-01,  1.00012311e+00,\n",
       "        -1.75720734e-01,  3.15118794e-01,  2.24314322e-01,\n",
       "         2.57255514e-01, -5.83066009e-02, -7.47902254e-02,\n",
       "        -3.31242987e-17, -9.75950265e-02,  9.60656108e-02,\n",
       "         6.29475527e-01, -4.16186707e-01, -3.40940632e-02,\n",
       "        -2.02997305e-01],\n",
       "       [ 6.38020697e-02, -1.41243642e-02, -4.56552233e-01,\n",
       "         9.93764545e-02,  4.59822266e-01,  1.86507752e-01,\n",
       "         8.09054437e-02,  2.14602621e-01, -1.75720734e-01,\n",
       "         1.00012311e+00, -1.63442463e-01,  1.51951217e-02,\n",
       "        -3.44029699e-02,  2.23466589e-01,  2.35822828e-01,\n",
       "         8.86395585e-18,  1.62624374e-01, -2.93257187e-01,\n",
       "        -2.91480295e-01,  2.58862496e-01,  8.73938581e-02,\n",
       "        -2.69249156e-01],\n",
       "       [ 3.01947722e-02, -1.26260048e-01,  3.21313414e-01,\n",
       "         2.44218301e-01, -2.05240176e-01,  1.44081071e-01,\n",
       "         3.50590712e-01, -3.44387697e-01,  3.15118794e-01,\n",
       "        -1.63442463e-01,  1.00012311e+00, -2.70685004e-02,\n",
       "         8.74651222e-02,  1.57159527e-01,  1.59825071e-01,\n",
       "         2.37746782e-17,  1.56232241e-01, -2.47387661e-01,\n",
       "         2.10181229e-01, -5.37061685e-01, -3.06785158e-01,\n",
       "        -7.66941876e-03],\n",
       "       [-3.04209144e-02,  8.91013054e-02, -6.08445542e-02,\n",
       "         4.60880601e-01,  1.18631813e-01, -8.89271522e-02,\n",
       "        -2.12385384e-01,  5.63170442e-02,  2.24314322e-01,\n",
       "         1.51951217e-02, -2.70685004e-02,  1.00012311e+00,\n",
       "         4.37218227e-01,  1.32724368e-01,  1.42852194e-01,\n",
       "        -1.12688722e-17, -9.06021305e-02,  1.07916877e-01,\n",
       "         3.90139042e-01,  1.00776185e-01,  7.96138040e-02,\n",
       "        -5.80835518e-02],\n",
       "       [-3.25951166e-02,  1.07977800e-01, -4.77160873e-02,\n",
       "         4.59039336e-01,  6.18280280e-02, -1.16191008e-01,\n",
       "        -2.13801040e-01,  1.08952390e-02,  2.57255514e-01,\n",
       "        -3.44029699e-02,  8.74651222e-02,  4.37218227e-01,\n",
       "         1.00012311e+00,  1.06946307e-01,  1.10669348e-01,\n",
       "         3.52208689e-17, -7.72937799e-02,  4.00110620e-02,\n",
       "         3.94692184e-01,  1.30989818e-01,  4.68031755e-02,\n",
       "        -3.96325796e-02],\n",
       "       [-3.16631918e-02,  6.60584116e-02,  2.36450597e-03,\n",
       "         8.35482468e-02,  1.74553597e-01,  9.93113293e-02,\n",
       "         2.74607907e-01,  2.96584725e-01, -5.83066009e-02,\n",
       "         2.23466589e-01,  1.57159527e-01,  1.32724368e-01,\n",
       "         1.06946307e-01,  1.00012311e+00,  4.91570338e-01,\n",
       "        -7.68895047e-17,  6.73850609e-02,  8.49277507e-02,\n",
       "        -4.88840139e-02,  2.71566478e-01, -2.40290111e-01,\n",
       "         4.25666196e-02],\n",
       "       [-3.03935589e-02,  6.88933788e-02,  8.05839976e-03,\n",
       "         9.28850828e-02,  1.69427362e-01,  9.71720273e-02,\n",
       "         2.53536172e-01,  2.78741931e-01, -7.47902254e-02,\n",
       "         2.35822828e-01,  1.59825071e-01,  1.42852194e-01,\n",
       "         1.10669348e-01,  4.91570338e-01,  1.00012311e+00,\n",
       "         3.94991610e-17,  6.55755456e-02,  8.75907216e-02,\n",
       "        -3.42886289e-02,  2.54549127e-01, -2.42821821e-01,\n",
       "         4.15990426e-02],\n",
       "       [ 4.49848884e-18, -8.36594750e-18,  1.51916543e-17,\n",
       "         2.74977343e-17,  1.08442237e-17, -1.04852147e-17,\n",
       "         7.22432145e-18, -2.24020141e-18, -3.31242987e-17,\n",
       "         8.86395585e-18,  2.37746782e-17, -1.12688722e-17,\n",
       "         3.52208689e-17, -7.68895047e-17,  3.94991610e-17,\n",
       "         3.66376745e-32, -1.71470836e-18,  1.23593245e-17,\n",
       "        -2.28435066e-17,  2.78251992e-18,  2.43879340e-18,\n",
       "        -2.42849447e-18],\n",
       "       [ 7.25693997e-02, -1.66054596e-02,  3.61339733e-02,\n",
       "         1.19784245e-01, -5.77538115e-02,  8.97628565e-01,\n",
       "         7.33717775e-02,  1.03821520e-01, -9.75950265e-02,\n",
       "         1.62624374e-01,  1.56232241e-01, -9.06021305e-02,\n",
       "        -7.72937799e-02,  6.73850609e-02,  6.55755456e-02,\n",
       "        -1.71470836e-18,  1.00012311e+00,  3.63845693e-02,\n",
       "        -1.43690286e-01, -3.60081512e-03,  1.24939141e-01,\n",
       "        -4.05862513e-02],\n",
       "       [-1.06546915e-01, -2.61503505e-02, -5.82319895e-03,\n",
       "         5.67945589e-02,  1.11919054e-01,  9.32476913e-02,\n",
       "         2.43043501e-01, -1.71383043e-01,  9.60656108e-02,\n",
       "        -2.93257187e-01, -2.47387661e-01,  1.07916877e-01,\n",
       "         4.00110620e-02,  8.49277507e-02,  8.75907216e-02,\n",
       "         1.23593245e-17,  3.63845693e-02,  1.00012311e+00,\n",
       "         5.83195326e-02,  3.38458997e-01, -2.42049806e-01,\n",
       "         2.35864154e-01],\n",
       "       [-2.54597238e-02, -1.06420046e-01,  1.62532702e-01,\n",
       "         6.93058228e-01, -2.81421921e-01, -1.46706814e-01,\n",
       "        -1.95921306e-01, -4.60928830e-01,  6.29475527e-01,\n",
       "        -2.91480295e-01,  2.10181229e-01,  3.90139042e-01,\n",
       "         3.94692184e-01, -4.88840139e-02, -3.42886289e-02,\n",
       "        -2.28435066e-17, -1.43690286e-01,  5.83195326e-02,\n",
       "         1.00012311e+00, -4.87108381e-01,  2.11789264e-01,\n",
       "        -2.12106146e-01],\n",
       "       [-7.34245762e-02,  2.30392413e-01, -2.93558839e-01,\n",
       "        -2.85043366e-01,  4.69112992e-01, -2.95279278e-02,\n",
       "         4.73287503e-02,  6.23067423e-01, -4.16186707e-01,\n",
       "         2.58862496e-01, -5.37061685e-01,  1.00776185e-01,\n",
       "         1.30989818e-01,  2.71566478e-01,  2.54549127e-01,\n",
       "         2.78251992e-18, -3.60081512e-03,  3.38458997e-01,\n",
       "        -4.87108381e-01,  1.00012311e+00, -1.26874242e-01,\n",
       "         1.85976773e-01],\n",
       "       [ 6.34209571e-02,  2.15577812e-02, -1.44787408e-01,\n",
       "         8.81480775e-02, -4.36280625e-02,  1.65595040e-01,\n",
       "        -5.29318453e-01,  1.47700046e-01, -3.40940632e-02,\n",
       "         8.73938581e-02, -3.06785158e-01,  7.96138040e-02,\n",
       "         4.68031755e-02, -2.40290111e-01, -2.42821821e-01,\n",
       "         2.43879340e-18,  1.24939141e-01, -2.42049806e-01,\n",
       "         2.11789264e-01, -1.26874242e-01,  1.00012311e+00,\n",
       "        -1.74550226e-01],\n",
       "       [-4.22261061e-02,  1.63906824e-01,  3.39294134e-02,\n",
       "        -7.51046406e-02, -2.66137167e-02, -3.03080818e-02,\n",
       "        -1.54698927e-01,  1.61437773e-01, -2.02997305e-01,\n",
       "        -2.69249156e-01, -7.66941876e-03, -5.80835518e-02,\n",
       "        -3.96325796e-02,  4.25666196e-02,  4.15990426e-02,\n",
       "        -2.42849447e-18, -4.05862513e-02,  2.35864154e-01,\n",
       "        -2.12106146e-01,  1.85976773e-01, -1.74550226e-01,\n",
       "         1.00012311e+00]])"
      ]
     },
     "execution_count": 71,
     "metadata": {},
     "output_type": "execute_result"
    }
   ],
   "source": [
    "pca.get_covariance()"
   ]
  },
  {
   "cell_type": "code",
   "execution_count": 77,
   "metadata": {},
   "outputs": [
    {
     "data": {
      "text/plain": [
       "array([3.87410924e+00, 2.60339434e+00, 2.40073834e+00, 2.16674719e+00,\n",
       "       1.70303181e+00, 1.39495575e+00, 9.78803667e-01, 9.51936841e-01,\n",
       "       7.70036405e-01, 7.11748353e-01, 5.77556532e-01, 5.42484855e-01,\n",
       "       5.09631267e-01, 4.77214086e-01, 3.84467203e-01, 3.11228233e-01,\n",
       "       2.18649656e-01, 1.59514884e-01, 1.31521687e-01, 7.31993474e-02,\n",
       "       6.16155691e-02, 6.33600236e-35])"
      ]
     },
     "execution_count": 77,
     "metadata": {},
     "output_type": "execute_result"
    }
   ],
   "source": [
    "pca.explained_variance_"
   ]
  },
  {
   "cell_type": "code",
   "execution_count": 85,
   "metadata": {},
   "outputs": [
    {
     "data": {
      "text/plain": [
       "0.9134672877887388"
      ]
     },
     "execution_count": 85,
     "metadata": {},
     "output_type": "execute_result"
    }
   ],
   "source": [
    "(pca.explained_variance_[0:13]/pca.explained_variance_.sum()).sum()\n",
    "\n",
    "# As you can see the the 1st 13 components explain 90% of variance"
   ]
  },
  {
   "cell_type": "code",
   "execution_count": 93,
   "metadata": {},
   "outputs": [
    {
     "data": {
      "text/plain": [
       "array([[-0.5743219 , -0.97578135, -1.22176154, ...,  0.4059626 ,\n",
       "        -0.69059792,  0.82162721],\n",
       "       [-2.2821023 ,  0.27906633, -1.20049669, ..., -0.1585238 ,\n",
       "         0.19434593, -1.38783028],\n",
       "       [-1.85803562, -0.27097236, -1.37237069, ...,  0.33931742,\n",
       "        -0.29356577, -0.51111309],\n",
       "       ...,\n",
       "       [-1.62151632, -0.75753671,  2.73357994, ..., -0.18716107,\n",
       "        -0.26470829, -0.6590295 ],\n",
       "       [ 3.67060561, -1.0327745 ,  0.1684595 , ..., -0.15867691,\n",
       "        -1.40452466,  0.23880758],\n",
       "       [-1.57520272, -1.2285814 ,  2.44722789, ..., -0.1912903 ,\n",
       "        -0.02900151, -0.06581524]])"
      ]
     },
     "execution_count": 93,
     "metadata": {},
     "output_type": "execute_result"
    }
   ],
   "source": [
    "pca=PCA(n_components=12)\n",
    "pca.fit_transform(X)"
   ]
  },
  {
   "cell_type": "code",
   "execution_count": 94,
   "metadata": {},
   "outputs": [],
   "source": [
    "from sklearn.model_selection import train_test_split\n",
    "X_train, X_test, y_train, y_test = train_test_split(X,y,test_size=0.3)"
   ]
  },
  {
   "cell_type": "code",
   "execution_count": 95,
   "metadata": {},
   "outputs": [],
   "source": [
    "from sklearn.linear_model import LogisticRegression\n",
    "from sklearn.model_selection import cross_val_score\n",
    "from sklearn import metrics\n",
    "\n",
    "model_LR= LogisticRegression()"
   ]
  },
  {
   "cell_type": "code",
   "execution_count": 98,
   "metadata": {},
   "outputs": [],
   "source": [
    "from sklearn.linear_model import LogisticRegression\n",
    "from sklearn.model_selection import cross_val_score\n",
    "from sklearn import metrics\n",
    "\n",
    "model_LR= LogisticRegression()"
   ]
  },
  {
   "cell_type": "code",
   "execution_count": 102,
   "metadata": {},
   "outputs": [
    {
     "name": "stderr",
     "output_type": "stream",
     "text": [
      "C:\\Users\\priya\\Anaconda3\\lib\\site-packages\\sklearn\\linear_model\\logistic.py:432: FutureWarning: Default solver will be changed to 'lbfgs' in 0.22. Specify a solver to silence this warning.\n",
      "  FutureWarning)\n"
     ]
    },
    {
     "data": {
      "text/plain": [
       "LogisticRegression(C=1.0, class_weight=None, dual=False, fit_intercept=True,\n",
       "          intercept_scaling=1, max_iter=100, multi_class='warn',\n",
       "          n_jobs=None, penalty='l2', random_state=None, solver='warn',\n",
       "          tol=0.0001, verbose=0, warm_start=False)"
      ]
     },
     "execution_count": 102,
     "metadata": {},
     "output_type": "execute_result"
    }
   ],
   "source": [
    "model_LR.fit(X_train,y_train)"
   ]
  },
  {
   "cell_type": "code",
   "execution_count": 104,
   "metadata": {},
   "outputs": [],
   "source": [
    "y_pred=model_LR.predict(X_test)"
   ]
  },
  {
   "cell_type": "code",
   "execution_count": 105,
   "metadata": {},
   "outputs": [
    {
     "data": {
      "text/plain": [
       "array([[1209,   56],\n",
       "       [  43, 1130]], dtype=int64)"
      ]
     },
     "execution_count": 105,
     "metadata": {},
     "output_type": "execute_result"
    }
   ],
   "source": [
    "confusion_matrix=metrics.confusion_matrix(y_test,y_pred)\n",
    "confusion_matrix"
   ]
  },
  {
   "cell_type": "code",
   "execution_count": 111,
   "metadata": {},
   "outputs": [
    {
     "data": {
      "text/plain": [
       "0.9595365418894831"
      ]
     },
     "execution_count": 111,
     "metadata": {},
     "output_type": "execute_result"
    }
   ],
   "source": [
    "auc_roc=metrics.roc_auc_score(y_test,y_pred)\n",
    "auc_roc"
   ]
  },
  {
   "cell_type": "code",
   "execution_count": null,
   "metadata": {},
   "outputs": [],
   "source": []
  }
 ],
 "metadata": {
  "kernelspec": {
   "display_name": "Python 3",
   "language": "python",
   "name": "python3"
  },
  "language_info": {
   "codemirror_mode": {
    "name": "ipython",
    "version": 3
   },
   "file_extension": ".py",
   "mimetype": "text/x-python",
   "name": "python",
   "nbconvert_exporter": "python",
   "pygments_lexer": "ipython3",
   "version": "3.6.7"
  }
 },
 "nbformat": 4,
 "nbformat_minor": 2
}
